{
 "cells": [
  {
   "metadata": {},
   "cell_type": "markdown",
   "source": [
    "# Bozza idee\n",
    "\n",
    "Lo storytelling è persuadere le persone unendo un’idea con un’emozione\n",
    "• Il modo migliore per farlo è raccontare una storia avvincente\n",
    "• In una storia, non solo integri molte informazioni nel racconto, ma anche tu\n",
    "suscitare le emozioni e l’energia del tuo ascoltatore\n",
    "•In sostanza, una storia esprime come e perché la vita cambia\n",
    "•Inizia con una situazione in cui la vita è relativamente in equilibrio\n",
    "• Ti aspetti che vada avanti in questo modo\n",
    "•Ma poi c'è un evento che sbilancia la vita\n",
    "•La storia prosegue descrivendo come, nel tentativo di ristabilire l'equilibrio, il\n",
    "Le aspettative soggettive del protagonista si scontrano con una non collaborativa\n",
    "realtà oggettiva\n",
    "•Un buon narratore descrive cosa vuol dire avere a che fare con questi avversari\n",
    "forze,\n",
    "• Invitare il protagonista a scavare più a fondo, a lavorare con risorse scarse, a creare\n",
    "decisioni difficili, agire nonostante i rischi e, alla fine, scoprire la verità\n",
    "•Tutti i grandi narratori fin dalla notte dei tempi si sono occupati di questo fondamentale\n",
    "Conflitto tra aspettativa soggettiva e realtà crudele\n",
    "\n",
    "\n",
    "IDEE STORYTELLIMG\n",
    "1. L'evoluzione dei temi dei film nel tempo in base alle vicende storiche e ai paesi di produzione (un po' scontato)\n",
    "2. Il ruolo delle donne nel tempo, anche in base al paese di produzione, agli oscar vinti, ai temi a cui è legato il ruolo della donna e ai generi in cui erano coinvolte un tempo (mia preferita)\n",
    "3. I paesi che producono più film, con confronto anche tra hollywood, bollywood, ecc."
   ],
   "id": "532e0a50af89d8f5"
  }
 ],
 "metadata": {
  "kernelspec": {
   "display_name": "Python 3",
   "language": "python",
   "name": "python3"
  },
  "language_info": {
   "codemirror_mode": {
    "name": "ipython",
    "version": 2
   },
   "file_extension": ".py",
   "mimetype": "text/x-python",
   "name": "python",
   "nbconvert_exporter": "python",
   "pygments_lexer": "ipython2",
   "version": "2.7.6"
  }
 },
 "nbformat": 4,
 "nbformat_minor": 5
}
