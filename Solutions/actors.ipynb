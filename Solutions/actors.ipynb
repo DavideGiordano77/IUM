{
 "cells": [
  {
   "metadata": {},
   "cell_type": "markdown",
   "source": "Pulizia actors.csv e caricamento in PostGres",
   "id": "fb3bc528516922b9"
  },
  {
   "metadata": {
    "ExecuteTime": {
     "end_time": "2025-02-20T12:17:51.561632Z",
     "start_time": "2025-02-20T12:17:51.556177Z"
    }
   },
   "cell_type": "code",
   "source": [
    "import pandas as pd\n",
    "import os\n",
    "import re\n",
    "from unidecode import unidecode"
   ],
   "id": "9cd3b8a5d011a920",
   "outputs": [],
   "execution_count": 71
  },
  {
   "metadata": {
    "ExecuteTime": {
     "end_time": "2025-02-20T12:17:59.568071Z",
     "start_time": "2025-02-20T12:17:53.902236Z"
    }
   },
   "cell_type": "code",
   "source": [
    "# Ottieni la directory di lavoro corrente\n",
    "script_dir = os.getcwd()\n",
    "\n",
    "# Costruisci il percorso relativo al file CSV\n",
    "file_path = os.path.join(script_dir, \"Data\", \"main_data\", \"actors.csv\")\n",
    "\n",
    "# Costruisci il percorso relativo al file CSV pulito\n",
    "clean_path = os.path.join(script_dir, \"Data\", \"clean_data\")\n",
    "\n",
    "# Crea la cartella clean_data se non esite\n",
    "if not os.path.exists(clean_path):\n",
    "    os.makedirs(clean_path)\n",
    "\n",
    "# Caricare il CSV in un DataFrame\n",
    "df = pd.read_csv(file_path)\n"
   ],
   "id": "b72d6d05d1fb6fa5",
   "outputs": [],
   "execution_count": 72
  },
  {
   "metadata": {
    "ExecuteTime": {
     "end_time": "2025-02-20T12:18:06.061096Z",
     "start_time": "2025-02-20T12:18:00.653293Z"
    }
   },
   "cell_type": "code",
   "source": [
    "# Rimuove duplicati\n",
    "df.drop_duplicates(inplace=True)"
   ],
   "id": "6c1351225419c7e6",
   "outputs": [],
   "execution_count": 73
  },
  {
   "metadata": {
    "ExecuteTime": {
     "end_time": "2025-02-20T12:18:09.789153Z",
     "start_time": "2025-02-20T12:18:07.192960Z"
    }
   },
   "cell_type": "code",
   "source": [
    "# Rimuove righe con troppi valori nulli (ad esempio, più del 50% dei dati mancanti)\n",
    "df.dropna(thresh=df.shape[1] * 0.5, inplace=True)\n",
    "\n",
    "# Sostituisci i valori nulli con \"Unknown\" o il valore più comune\n",
    "df['role'] = df['role'].fillna(\"Unknown\")\n",
    "df['name'] = df['name'].fillna(\"Unknown\")"
   ],
   "id": "95f388879d952ad3",
   "outputs": [],
   "execution_count": 74
  },
  {
   "metadata": {
    "ExecuteTime": {
     "end_time": "2025-02-20T12:18:30.391137Z",
     "start_time": "2025-02-20T12:18:11.180652Z"
    }
   },
   "cell_type": "code",
   "source": [
    "# Prende solo la prima parte prima di \"/\"\n",
    "df['role'] = df['role'].str.split('/').str[0]\n",
    "\n",
    "# Rimuove sinonimi tra parentesi\n",
    "df['role'] = df['role'].apply(lambda x: re.sub(r\"\\(.*?\\)|（.*?）\", \"\", x))\n",
    "\n",
    "# Standardizza il testo (se ci sono nomi di attori, ruoli, ecc.)\n",
    "df['name'] = df['name'].str.strip().str.title()\n",
    "df['role'] = df['role'].str.strip().str.lower()\n",
    "\n",
    "print(df['role'].unique())"
   ],
   "id": "630cd4bed865a96f",
   "outputs": [
    {
     "name": "stdout",
     "output_type": "stream",
     "text": [
      "['barbie' 'ken' 'gloria' ... 'an du' 'ba cai' 'zuo yila']\n"
     ]
    }
   ],
   "execution_count": 75
  },
  {
   "metadata": {
    "ExecuteTime": {
     "end_time": "2025-02-20T12:18:42.906248Z",
     "start_time": "2025-02-20T12:18:34.660235Z"
    }
   },
   "cell_type": "code",
   "source": [
    "# Funzione per tradurre il nome in caratteri latini \n",
    "def transliterate_name(name):\n",
    "    if isinstance(name, str):  # Controlla che sia una stringa\n",
    "        return unidecode(name).strip()  # Traduci e rimuovi spazi extra\n",
    "    return name  # Se non è stringa, lascialo così\n",
    "\n",
    "# Applica la funzione alla colonna dei nomi e dei ruoli\n",
    "df['name'] = df['name'].apply(transliterate_name)\n",
    "df['role'] = df['role'].apply(transliterate_name)\n"
   ],
   "id": "8464c9a5cb6be35",
   "outputs": [],
   "execution_count": 76
  },
  {
   "metadata": {
    "ExecuteTime": {
     "end_time": "2025-02-20T12:18:53.396620Z",
     "start_time": "2025-02-20T12:18:45.933769Z"
    }
   },
   "cell_type": "code",
   "source": [
    "# Salva il file pulito\n",
    "cleaned_csv_path = os.path.join(clean_path, \"actors_cleaned.csv\")\n",
    "df.to_csv(cleaned_csv_path, index=False, encoding=\"utf-8\")"
   ],
   "id": "e1f77b2868790b31",
   "outputs": [],
   "execution_count": 77
  }
 ],
 "metadata": {
  "kernelspec": {
   "display_name": "Python 3",
   "language": "python",
   "name": "python3"
  },
  "language_info": {
   "codemirror_mode": {
    "name": "ipython",
    "version": 2
   },
   "file_extension": ".py",
   "mimetype": "text/x-python",
   "name": "python",
   "nbconvert_exporter": "python",
   "pygments_lexer": "ipython2",
   "version": "2.7.6"
  }
 },
 "nbformat": 4,
 "nbformat_minor": 5
}
