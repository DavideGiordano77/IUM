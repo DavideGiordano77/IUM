{
 "cells": [
  {
   "metadata": {},
   "cell_type": "markdown",
   "source": "Pulizia actors.csv e caricamento in PostGres",
   "id": "fb3bc528516922b9"
  },
  {
   "metadata": {
    "ExecuteTime": {
     "end_time": "2025-02-22T09:58:53.680278Z",
     "start_time": "2025-02-22T09:58:52.164164Z"
    }
   },
   "cell_type": "code",
   "source": [
    "import pandas as pd\n",
    "import os\n",
    "import re\n",
    "from unidecode import unidecode"
   ],
   "id": "9cd3b8a5d011a920",
   "outputs": [],
   "execution_count": 8
  },
  {
   "metadata": {
    "ExecuteTime": {
     "end_time": "2025-02-22T09:59:13.903742Z",
     "start_time": "2025-02-22T09:59:01.213411Z"
    }
   },
   "cell_type": "code",
   "source": [
    "# Ottiene la directory di lavoro corrente\n",
    "script_dir = os.getcwd()\n",
    "\n",
    "# Costruisce il percorso relativo al file CSV\n",
    "file_path = os.path.join(script_dir, \"Data\", \"main_data\", \"actors.csv\")\n",
    "\n",
    "# Costruisce il percorso relativo al file CSV pulito\n",
    "clean_path = os.path.join(script_dir, \"Data\", \"clean_data\")\n",
    "\n",
    "# Crea la cartella clean_data se non esite\n",
    "if not os.path.exists(clean_path):\n",
    "    os.makedirs(clean_path)\n",
    "\n",
    "# Carica il CSV in un DataFrame\n",
    "df = pd.read_csv(file_path)"
   ],
   "id": "b72d6d05d1fb6fa5",
   "outputs": [],
   "execution_count": 10
  },
  {
   "metadata": {
    "ExecuteTime": {
     "end_time": "2025-02-22T09:59:23.555360Z",
     "start_time": "2025-02-22T09:59:13.909438Z"
    }
   },
   "cell_type": "code",
   "source": [
    "# Rimuove duplicati\n",
    "df.drop_duplicates(inplace=True)"
   ],
   "id": "6c1351225419c7e6",
   "outputs": [],
   "execution_count": 11
  },
  {
   "metadata": {
    "ExecuteTime": {
     "end_time": "2025-02-22T09:59:28.632512Z",
     "start_time": "2025-02-22T09:59:23.579852Z"
    }
   },
   "cell_type": "code",
   "source": [
    "# Rimuove righe con troppi valori nulli (ad esempio, più del 50% dei dati mancanti)\n",
    "df.dropna(thresh=df.shape[1] * 0.5, inplace=True)\n",
    "\n",
    "# Sostituisce i valori nulli con \"Unknown\"\n",
    "df['role'] = df['role'].fillna(\"Unknown\")\n",
    "df['name'] = df['name'].fillna(\"Unknown\")"
   ],
   "id": "95f388879d952ad3",
   "outputs": [],
   "execution_count": 12
  },
  {
   "metadata": {
    "ExecuteTime": {
     "end_time": "2025-02-22T09:59:54.342932Z",
     "start_time": "2025-02-22T09:59:28.653180Z"
    }
   },
   "cell_type": "code",
   "source": [
    "# Funzione per tradurre il nome in caratteri latini \n",
    "def transliterate_name(name):\n",
    "    if isinstance(name, str):  # Controlla che sia una stringa\n",
    "        return unidecode(name).strip()  # Traduci e rimuovi spazi extra\n",
    "    return name  # Se non è stringa, lascialo così\n",
    "\n",
    "# Applica la funzione alla colonna dei nomi e dei ruoli\n",
    "df['name'] = df['name'].apply(transliterate_name)\n",
    "df['role'] = df['role'].apply(transliterate_name)\n"
   ],
   "id": "8464c9a5cb6be35",
   "outputs": [],
   "execution_count": 13
  },
  {
   "metadata": {
    "ExecuteTime": {
     "end_time": "2025-02-22T10:01:36.862203Z",
     "start_time": "2025-02-22T10:00:45.108176Z"
    }
   },
   "cell_type": "code",
   "source": [
    "# Prende solo la prima parte prima di \"/\"\n",
    "df['role'] = df['role'].str.split('/').str[0]\n",
    "\n",
    "# Rimuove sinonimi tra parentesi\n",
    "df['role'] = df['role'].apply(lambda x: re.sub(r\"\\(.*?\\)|（.*?）\", \"\", x))\n",
    "\n",
    "# Standardizza il testo (se ci sono nomi di attori, ruoli, ecc.)\n",
    "df['name'] = df['name'].str.strip().str.title()\n",
    "df['role'] = df['role'].str.strip().str.title()\n",
    "\n",
    "# Rimuove le virgolette\n",
    "df['name'] = df['name'].str.replace('\"', '')\n",
    "df['role'] = df['role'].str.replace('\"', '')"
   ],
   "id": "ce7fff51f285b2f1",
   "outputs": [],
   "execution_count": 15
  },
  {
   "metadata": {
    "ExecuteTime": {
     "end_time": "2025-02-22T10:02:06.324470Z",
     "start_time": "2025-02-22T10:01:47.881319Z"
    }
   },
   "cell_type": "code",
   "source": [
    "# Salva il file pulito\n",
    "cleaned_csv_path = os.path.join(clean_path, \"actors_cleaned.csv\")\n",
    "df.to_csv(cleaned_csv_path, index=False, encoding=\"utf-8\")"
   ],
   "id": "e1f77b2868790b31",
   "outputs": [],
   "execution_count": 17
  },
  {
   "metadata": {},
   "cell_type": "markdown",
   "source": "Caricamento file csv pulito nel database con PostgreSQL\n",
   "id": "1997e665f407925f"
  },
  {
   "metadata": {
    "ExecuteTime": {
     "end_time": "2025-02-22T09:58:34.050407Z",
     "start_time": "2025-02-22T09:58:33.301870Z"
    }
   },
   "cell_type": "code",
   "source": [
    "import psycopg2\n",
    "from sqlalchemy import create_engine,text"
   ],
   "id": "a226f1f1a09b4581",
   "outputs": [],
   "execution_count": 2
  },
  {
   "metadata": {
    "ExecuteTime": {
     "end_time": "2025-02-22T10:48:27.124826Z",
     "start_time": "2025-02-22T10:48:26.887950Z"
    }
   },
   "cell_type": "code",
   "source": [
    "#  Parametri di connessione PostgreSQL\n",
    "DB_NAME = \"ium_database\"  \n",
    "DB_USER = \"postgres\"       \n",
    "DB_PASSWORD = \"password\"   \n",
    "DB_HOST = \"localhost\"      \n",
    "DB_PORT = \"5432\"    \n",
    "\n",
    "conn = psycopg2.connect(dbname=\"postgres\", user=DB_USER, password=DB_PASSWORD, host=DB_HOST, port=DB_PORT) # Crea una connessione al database usando psycopg2.connect\n",
    "conn.autocommit = True # Conferma automaticamente ogni operazione evitando la conferma manuale dopo ogni query\n",
    "cur = conn.cursor() # Crea un oggetto cur che permette di eseguire query SQL sul database\n",
    "cur.execute(f\"CREATE DATABASE {DB_NAME};\") # Esegue il comando per creare il database con il nome specificato"
   ],
   "id": "5df9b37de1923157",
   "outputs": [
    {
     "ename": "NameError",
     "evalue": "name 'errors' is not defined",
     "output_type": "error",
     "traceback": [
      "\u001B[1;31m---------------------------------------------------------------------------\u001B[0m",
      "\u001B[1;31mNameError\u001B[0m                                 Traceback (most recent call last)",
      "Cell \u001B[1;32mIn[21], line 12\u001B[0m\n\u001B[0;32m     10\u001B[0m cur \u001B[38;5;241m=\u001B[39m conn\u001B[38;5;241m.\u001B[39mcursor()\n\u001B[1;32m---> 12\u001B[0m cur\u001B[38;5;241m.\u001B[39mexecute(sql\u001B[38;5;241m.\u001B[39mSQL(\u001B[38;5;124m\"\u001B[39m\u001B[38;5;124mCREATE DATABASE \u001B[39m\u001B[38;5;132;01m{}\u001B[39;00m\u001B[38;5;124m;\u001B[39m\u001B[38;5;124m\"\u001B[39m)\u001B[38;5;241m.\u001B[39mformat(sql\u001B[38;5;241m.\u001B[39mIdentifier(DB_NAME)))\n\u001B[0;32m     13\u001B[0m \u001B[38;5;28mprint\u001B[39m(\u001B[38;5;124mf\u001B[39m\u001B[38;5;124m\"\u001B[39m\u001B[38;5;124mDatabase \u001B[39m\u001B[38;5;124m'\u001B[39m\u001B[38;5;132;01m{\u001B[39;00mDB_NAME\u001B[38;5;132;01m}\u001B[39;00m\u001B[38;5;124m'\u001B[39m\u001B[38;5;124m creato con successo.\u001B[39m\u001B[38;5;124m\"\u001B[39m)\n",
      "\u001B[1;31mNameError\u001B[0m: name 'sql' is not defined",
      "\nDuring handling of the above exception, another exception occurred:\n",
      "\u001B[1;31mNameError\u001B[0m                                 Traceback (most recent call last)",
      "Cell \u001B[1;32mIn[21], line 15\u001B[0m\n\u001B[0;32m     12\u001B[0m     cur\u001B[38;5;241m.\u001B[39mexecute(sql\u001B[38;5;241m.\u001B[39mSQL(\u001B[38;5;124m\"\u001B[39m\u001B[38;5;124mCREATE DATABASE \u001B[39m\u001B[38;5;132;01m{}\u001B[39;00m\u001B[38;5;124m;\u001B[39m\u001B[38;5;124m\"\u001B[39m)\u001B[38;5;241m.\u001B[39mformat(sql\u001B[38;5;241m.\u001B[39mIdentifier(DB_NAME)))\n\u001B[0;32m     13\u001B[0m     \u001B[38;5;28mprint\u001B[39m(\u001B[38;5;124mf\u001B[39m\u001B[38;5;124m\"\u001B[39m\u001B[38;5;124mDatabase \u001B[39m\u001B[38;5;124m'\u001B[39m\u001B[38;5;132;01m{\u001B[39;00mDB_NAME\u001B[38;5;132;01m}\u001B[39;00m\u001B[38;5;124m'\u001B[39m\u001B[38;5;124m creato con successo.\u001B[39m\u001B[38;5;124m\"\u001B[39m)\n\u001B[1;32m---> 15\u001B[0m \u001B[38;5;28;01mexcept\u001B[39;00m errors\u001B[38;5;241m.\u001B[39mDuplicateDatabase:\n\u001B[0;32m     16\u001B[0m     \u001B[38;5;28mprint\u001B[39m(\u001B[38;5;124mf\u001B[39m\u001B[38;5;124m\"\u001B[39m\u001B[38;5;124mIl database \u001B[39m\u001B[38;5;124m'\u001B[39m\u001B[38;5;132;01m{\u001B[39;00mDB_NAME\u001B[38;5;132;01m}\u001B[39;00m\u001B[38;5;124m'\u001B[39m\u001B[38;5;124m esiste già.\u001B[39m\u001B[38;5;124m\"\u001B[39m)\n\u001B[0;32m     18\u001B[0m \u001B[38;5;28;01mfinally\u001B[39;00m:\n",
      "\u001B[1;31mNameError\u001B[0m: name 'errors' is not defined"
     ]
    }
   ],
   "execution_count": 21
  },
  {
   "metadata": {
    "ExecuteTime": {
     "end_time": "2025-02-22T09:58:38.646817Z",
     "start_time": "2025-02-22T09:58:38.530263Z"
    }
   },
   "cell_type": "code",
   "source": [
    "# Crea un oggetto di connessione a un database PostgreSQL utilizzando SQLAlchemy\n",
    "engine = create_engine(f\"postgresql://{DB_USER}:{DB_PASSWORD}@{DB_HOST}:{DB_PORT}/{DB_NAME}\")"
   ],
   "id": "b930bfc1e74c30aa",
   "outputs": [],
   "execution_count": 4
  },
  {
   "metadata": {
    "ExecuteTime": {
     "end_time": "2025-02-22T09:58:41.869363Z",
     "start_time": "2025-02-22T09:58:41.718339Z"
    }
   },
   "cell_type": "code",
   "source": [
    "# Query SQL per creare la tabella\n",
    "create_table_query = text(\"\"\"\n",
    "    CREATE TABLE IF NOT EXISTS actors_data (\n",
    "        id INT,\n",
    "        name TEXT,\n",
    "        role TEXT\n",
    "    );\n",
    "\"\"\")\n",
    "\n",
    "# Eseguire la query\n",
    "with engine.connect() as connection: # Apre una connessione al database usando SQLAlchemy\n",
    "    connection.execute(create_table_query) # Esegue il comando per la creazione della \n",
    "    connection.commit() # Salva le modifiche"
   ],
   "id": "d8d9f54ab9281c42",
   "outputs": [],
   "execution_count": 5
  },
  {
   "metadata": {
    "ExecuteTime": {
     "end_time": "2025-02-22T10:45:04.693107Z",
     "start_time": "2025-02-22T10:42:22.846786Z"
    }
   },
   "cell_type": "code",
   "source": [
    "# Legge il CSV pulito\n",
    "df = pd.read_csv(cleaned_csv_path)\n",
    "\n",
    "# Carica i dati nella tabella PostgreSQL\n",
    "df.to_sql(\"actors_data\", engine, if_exists=\"replace\", index=False) # Esporta il dataframe nel database, sovrascrive e aggiunge i nuovi dati alla tabella esistente"
   ],
   "id": "49a742953e738a3e",
   "outputs": [
    {
     "data": {
      "text/plain": [
       "502"
      ]
     },
     "execution_count": 20,
     "metadata": {},
     "output_type": "execute_result"
    }
   ],
   "execution_count": 20
  }
 ],
 "metadata": {
  "kernelspec": {
   "display_name": "Python 3",
   "language": "python",
   "name": "python3"
  },
  "language_info": {
   "codemirror_mode": {
    "name": "ipython",
    "version": 2
   },
   "file_extension": ".py",
   "mimetype": "text/x-python",
   "name": "python",
   "nbconvert_exporter": "python",
   "pygments_lexer": "ipython2",
   "version": "2.7.6"
  }
 },
 "nbformat": 4,
 "nbformat_minor": 5
}
