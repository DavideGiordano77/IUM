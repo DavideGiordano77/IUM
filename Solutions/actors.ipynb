{
 "cells": [
  {
   "metadata": {},
   "cell_type": "markdown",
   "source": "Pulizia actors.csv e caricamento in PostGres",
   "id": "fb3bc528516922b9"
  },
  {
   "metadata": {
    "ExecuteTime": {
     "end_time": "2025-02-20T12:17:51.561632Z",
     "start_time": "2025-02-20T12:17:51.556177Z"
    }
   },
   "cell_type": "code",
   "source": [
    "import pandas as pd\n",
    "import os\n",
    "import re\n",
    "from unidecode import unidecode"
   ],
   "id": "9cd3b8a5d011a920",
   "outputs": [],
   "execution_count": 71
  },
  {
   "metadata": {
    "ExecuteTime": {
     "end_time": "2025-02-20T12:17:59.568071Z",
     "start_time": "2025-02-20T12:17:53.902236Z"
    }
   },
   "cell_type": "code",
   "source": [
    "# Ottiene la directory di lavoro corrente\n",
    "script_dir = os.getcwd()\n",
    "\n",
    "# Costruisce il percorso relativo al file CSV\n",
    "file_path = os.path.join(script_dir, \"Data\", \"main_data\", \"actors.csv\")\n",
    "\n",
    "# Costruisce il percorso relativo al file CSV pulito\n",
    "clean_path = os.path.join(script_dir, \"Data\", \"clean_data\")\n",
    "\n",
    "# Crea la cartella clean_data se non esite\n",
    "if not os.path.exists(clean_path):\n",
    "    os.makedirs(clean_path)\n",
    "\n",
    "# Carica il CSV in un DataFrame\n",
    "df = pd.read_csv(file_path)\n"
   ],
   "id": "b72d6d05d1fb6fa5",
   "outputs": [],
   "execution_count": 72
  },
  {
   "metadata": {
    "ExecuteTime": {
     "end_time": "2025-02-20T12:18:06.061096Z",
     "start_time": "2025-02-20T12:18:00.653293Z"
    }
   },
   "cell_type": "code",
   "source": [
    "# Rimuove duplicati\n",
    "df.drop_duplicates(inplace=True)"
   ],
   "id": "6c1351225419c7e6",
   "outputs": [],
   "execution_count": 73
  },
  {
   "metadata": {
    "ExecuteTime": {
     "end_time": "2025-02-20T12:18:09.789153Z",
     "start_time": "2025-02-20T12:18:07.192960Z"
    }
   },
   "cell_type": "code",
   "source": [
    "# Rimuove righe con troppi valori nulli (ad esempio, più del 50% dei dati mancanti)\n",
    "df.dropna(thresh=df.shape[1] * 0.5, inplace=True)\n",
    "\n",
    "# Sostituisce i valori nulli con \"Unknown\" o il valore più comune\n",
    "df['role'] = df['role'].fillna(\"Unknown\")\n",
    "df['name'] = df['name'].fillna(\"Unknown\")"
   ],
   "id": "95f388879d952ad3",
   "outputs": [],
   "execution_count": 74
  },
  {
   "metadata": {
    "ExecuteTime": {
     "end_time": "2025-02-20T12:18:30.391137Z",
     "start_time": "2025-02-20T12:18:11.180652Z"
    }
   },
   "cell_type": "code",
   "source": [
    "# Prende solo la prima parte prima di \"/\"\n",
    "df['role'] = df['role'].str.split('/').str[0]\n",
    "\n",
    "# Rimuove sinonimi tra parentesi\n",
    "df['role'] = df['role'].apply(lambda x: re.sub(r\"\\(.*?\\)|（.*?）\", \"\", x))\n",
    "\n",
    "# Standardizza il testo (se ci sono nomi di attori, ruoli, ecc.)\n",
    "df['name'] = df['name'].str.strip().str.title()\n",
    "df['role'] = df['role'].str.strip().str.lower()\n",
    "\n",
    "print(df['role'].unique())"
   ],
   "id": "630cd4bed865a96f",
   "outputs": [
    {
     "name": "stdout",
     "output_type": "stream",
     "text": [
      "['barbie' 'ken' 'gloria' ... 'an du' 'ba cai' 'zuo yila']\n"
     ]
    }
   ],
   "execution_count": 75
  },
  {
   "metadata": {
    "ExecuteTime": {
     "end_time": "2025-02-20T12:18:42.906248Z",
     "start_time": "2025-02-20T12:18:34.660235Z"
    }
   },
   "cell_type": "code",
   "source": [
    "# Funzione per tradurre il nome in caratteri latini \n",
    "def transliterate_name(name):\n",
    "    if isinstance(name, str):  # Controlla che sia una stringa\n",
    "        return unidecode(name).strip()  # Traduci e rimuovi spazi extra\n",
    "    return name  # Se non è stringa, lascialo così\n",
    "\n",
    "# Applica la funzione alla colonna dei nomi e dei ruoli\n",
    "df['name'] = df['name'].apply(transliterate_name)\n",
    "df['role'] = df['role'].apply(transliterate_name)\n"
   ],
   "id": "8464c9a5cb6be35",
   "outputs": [],
   "execution_count": 76
  },
  {
   "metadata": {
    "ExecuteTime": {
     "end_time": "2025-02-20T12:18:53.396620Z",
     "start_time": "2025-02-20T12:18:45.933769Z"
    }
   },
   "cell_type": "code",
   "source": [
    "# Salva il file pulito\n",
    "cleaned_csv_path = os.path.join(clean_path, \"actors_cleaned.csv\")\n",
    "df.to_csv(cleaned_csv_path, index=False, encoding=\"utf-8\")"
   ],
   "id": "e1f77b2868790b31",
   "outputs": [],
   "execution_count": 77
  },
  {
   "metadata": {},
   "cell_type": "markdown",
   "source": "Caricamento file csv pulito nel database con PostgreSQL\n",
   "id": "1997e665f407925f"
  },
  {
   "metadata": {
    "ExecuteTime": {
     "end_time": "2025-02-20T15:52:52.476409Z",
     "start_time": "2025-02-20T15:52:52.466075Z"
    }
   },
   "cell_type": "code",
   "source": [
    "import psycopg2\n",
    "from sqlalchemy import create_engine,text"
   ],
   "id": "a226f1f1a09b4581",
   "outputs": [],
   "execution_count": 84
  },
  {
   "metadata": {
    "ExecuteTime": {
     "end_time": "2025-02-20T16:10:24.838445Z",
     "start_time": "2025-02-20T16:10:24.730254Z"
    }
   },
   "cell_type": "code",
   "source": [
    "#  Parametri di connessione PostgreSQL\n",
    "DB_NAME = \"actors_database\"  \n",
    "DB_USER = \"postgres\"       \n",
    "DB_PASSWORD = \"2004agnese\"   \n",
    "DB_HOST = \"localhost\"      \n",
    "DB_PORT = \"5432\"    \n",
    "\n",
    "conn = psycopg2.connect(dbname=\"postgres\", user=DB_USER, password=DB_PASSWORD, host=DB_HOST, port=DB_PORT) # Crea una connessione al database usando psycopg2.connect\n",
    "conn.autocommit = True # Conferma automaticamente ogni operazione evitando la conferma manuale dopo ogni query\n",
    "cur = conn.cursor() # Crea un oggetto cur che permette di eseguire query SQL sul database\n",
    "cur.execute(f\"CREATE DATABASE {DB_NAME};\") # Esegue il comando per creare il database con il nome specificato"
   ],
   "id": "5df9b37de1923157",
   "outputs": [
    {
     "ename": "DuplicateDatabase",
     "evalue": "ERRORE:  il database \"actors_database\" esiste già\n",
     "output_type": "error",
     "traceback": [
      "\u001B[1;31m---------------------------------------------------------------------------\u001B[0m",
      "\u001B[1;31mDuplicateDatabase\u001B[0m                         Traceback (most recent call last)",
      "Cell \u001B[1;32mIn[90], line 11\u001B[0m\n\u001B[0;32m      9\u001B[0m conn\u001B[38;5;241m.\u001B[39mautocommit \u001B[38;5;241m=\u001B[39m \u001B[38;5;28;01mTrue\u001B[39;00m \u001B[38;5;66;03m#conferma automaticamente ogni operazione evitando la conferma manuale dopo ogni query\u001B[39;00m\n\u001B[0;32m     10\u001B[0m cur \u001B[38;5;241m=\u001B[39m conn\u001B[38;5;241m.\u001B[39mcursor() \u001B[38;5;66;03m#crea un oggetto cur che permette di eseguire query SQL sul database\u001B[39;00m\n\u001B[1;32m---> 11\u001B[0m cur\u001B[38;5;241m.\u001B[39mexecute(\u001B[38;5;124mf\u001B[39m\u001B[38;5;124m\"\u001B[39m\u001B[38;5;124mCREATE DATABASE \u001B[39m\u001B[38;5;132;01m{\u001B[39;00mDB_NAME\u001B[38;5;132;01m}\u001B[39;00m\u001B[38;5;124m;\u001B[39m\u001B[38;5;124m\"\u001B[39m)\n",
      "\u001B[1;31mDuplicateDatabase\u001B[0m: ERRORE:  il database \"actors_database\" esiste già\n"
     ]
    }
   ],
   "execution_count": 90
  },
  {
   "metadata": {
    "ExecuteTime": {
     "end_time": "2025-02-20T15:50:55.509733Z",
     "start_time": "2025-02-20T15:50:55.426480Z"
    }
   },
   "cell_type": "code",
   "source": [
    "# Crea un oggetto di connessione a un database PostgreSQL utilizzando SQLAlchemy\n",
    "engine = create_engine(f\"postgresql://{DB_USER}:{DB_PASSWORD}@{DB_HOST}:{DB_PORT}/{DB_NAME}\")"
   ],
   "id": "b930bfc1e74c30aa",
   "outputs": [],
   "execution_count": 82
  },
  {
   "metadata": {
    "ExecuteTime": {
     "end_time": "2025-02-20T15:57:06.141959Z",
     "start_time": "2025-02-20T15:57:06.124928Z"
    }
   },
   "cell_type": "code",
   "source": [
    "# Query SQL per creare la tabella\n",
    "create_table_query = text(\"\"\"\n",
    "    CREATE TABLE IF NOT EXISTS actors_data (\n",
    "        id INT,\n",
    "        name TEXT,\n",
    "        role TEXT\n",
    "    );\n",
    "\"\"\")\n",
    "\n",
    "# Eseguire la query\n",
    "with engine.connect() as connection: # Apre una connessione al database usando SQLAlchemy\n",
    "    connection.execute(create_table_query) # Esegue il comando per la creazione della \n",
    "    connection.commit() # Salva le modifiche"
   ],
   "id": "d8d9f54ab9281c42",
   "outputs": [
    {
     "name": "stdout",
     "output_type": "stream",
     "text": [
      "✅ Tabella 'actors_data' creata/verificata con successo.\n"
     ]
    }
   ],
   "execution_count": 88
  },
  {
   "metadata": {
    "ExecuteTime": {
     "end_time": "2025-02-20T15:59:47.687090Z",
     "start_time": "2025-02-20T15:57:19.107414Z"
    }
   },
   "cell_type": "code",
   "source": [
    "# Legge il CSV pulito\n",
    "df = pd.read_csv(cleaned_csv_path)\n",
    "\n",
    "# Carica i dati nella tabella PostgreSQL\n",
    "df.to_sql(\"actors_data\", engine, if_exists=\"append\", index=False) # Esporta il dataframe nel database, se esiste già aggiunge i nuovi dati alla tabella esistente"
   ],
   "id": "49a742953e738a3e",
   "outputs": [
    {
     "name": "stdout",
     "output_type": "stream",
     "text": [
      "✅ Dati caricati con successo in PostgreSQL!\n"
     ]
    }
   ],
   "execution_count": 89
  }
 ],
 "metadata": {
  "kernelspec": {
   "display_name": "Python 3",
   "language": "python",
   "name": "python3"
  },
  "language_info": {
   "codemirror_mode": {
    "name": "ipython",
    "version": 2
   },
   "file_extension": ".py",
   "mimetype": "text/x-python",
   "name": "python",
   "nbconvert_exporter": "python",
   "pygments_lexer": "ipython2",
   "version": "2.7.6"
  }
 },
 "nbformat": 4,
 "nbformat_minor": 5
}
