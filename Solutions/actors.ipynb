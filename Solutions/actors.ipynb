{
 "cells": [
  {
   "metadata": {},
   "cell_type": "markdown",
   "source": "Carico il file csv",
   "id": "fb3bc528516922b9"
  },
  {
   "metadata": {
    "ExecuteTime": {
     "end_time": "2025-02-19T18:17:00.726998Z",
     "start_time": "2025-02-19T18:17:00.722768Z"
    }
   },
   "cell_type": "code",
   "source": [
    "import pandas as pd\n",
    "import os"
   ],
   "id": "9cd3b8a5d011a920",
   "outputs": [],
   "execution_count": 35
  },
  {
   "metadata": {
    "ExecuteTime": {
     "end_time": "2025-02-19T18:20:41.056388Z",
     "start_time": "2025-02-19T18:20:36.622218Z"
    }
   },
   "cell_type": "code",
   "source": [
    "# Ottieni la directory di lavoro corrente\n",
    "script_dir = os.getcwd()\n",
    "\n",
    "# Costruisci il percorso relativo al file CSV\n",
    "file_path = os.path.join(script_dir, \"Data\", \"main_data\", \"actors.csv\")\n",
    "\n",
    "# Caricare il CSV in un DataFrame\n",
    "df = pd.read_csv(file_path)\n",
    "\n",
    "# Visualizzare le prime righe\n",
    "df.head()\n"
   ],
   "id": "b72d6d05d1fb6fa5",
   "outputs": [
    {
     "data": {
      "text/plain": [
       "        id               name    role\n",
       "0  1000001      Margot Robbie  Barbie\n",
       "1  1000001       Ryan Gosling     Ken\n",
       "2  1000001    America Ferrera  Gloria\n",
       "3  1000001  Ariana Greenblatt   Sasha\n",
       "4  1000001           Issa Rae  Barbie"
      ],
      "text/html": [
       "<div>\n",
       "<style scoped>\n",
       "    .dataframe tbody tr th:only-of-type {\n",
       "        vertical-align: middle;\n",
       "    }\n",
       "\n",
       "    .dataframe tbody tr th {\n",
       "        vertical-align: top;\n",
       "    }\n",
       "\n",
       "    .dataframe thead th {\n",
       "        text-align: right;\n",
       "    }\n",
       "</style>\n",
       "<table border=\"1\" class=\"dataframe\">\n",
       "  <thead>\n",
       "    <tr style=\"text-align: right;\">\n",
       "      <th></th>\n",
       "      <th>id</th>\n",
       "      <th>name</th>\n",
       "      <th>role</th>\n",
       "    </tr>\n",
       "  </thead>\n",
       "  <tbody>\n",
       "    <tr>\n",
       "      <th>0</th>\n",
       "      <td>1000001</td>\n",
       "      <td>Margot Robbie</td>\n",
       "      <td>Barbie</td>\n",
       "    </tr>\n",
       "    <tr>\n",
       "      <th>1</th>\n",
       "      <td>1000001</td>\n",
       "      <td>Ryan Gosling</td>\n",
       "      <td>Ken</td>\n",
       "    </tr>\n",
       "    <tr>\n",
       "      <th>2</th>\n",
       "      <td>1000001</td>\n",
       "      <td>America Ferrera</td>\n",
       "      <td>Gloria</td>\n",
       "    </tr>\n",
       "    <tr>\n",
       "      <th>3</th>\n",
       "      <td>1000001</td>\n",
       "      <td>Ariana Greenblatt</td>\n",
       "      <td>Sasha</td>\n",
       "    </tr>\n",
       "    <tr>\n",
       "      <th>4</th>\n",
       "      <td>1000001</td>\n",
       "      <td>Issa Rae</td>\n",
       "      <td>Barbie</td>\n",
       "    </tr>\n",
       "  </tbody>\n",
       "</table>\n",
       "</div>"
      ]
     },
     "execution_count": 42,
     "metadata": {},
     "output_type": "execute_result"
    }
   ],
   "execution_count": 42
  }
 ],
 "metadata": {
  "kernelspec": {
   "display_name": "Python 3",
   "language": "python",
   "name": "python3"
  },
  "language_info": {
   "codemirror_mode": {
    "name": "ipython",
    "version": 2
   },
   "file_extension": ".py",
   "mimetype": "text/x-python",
   "name": "python",
   "nbconvert_exporter": "python",
   "pygments_lexer": "ipython2",
   "version": "2.7.6"
  }
 },
 "nbformat": 4,
 "nbformat_minor": 5
}
