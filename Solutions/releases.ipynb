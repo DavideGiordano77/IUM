{
 "cells": [
  {
   "cell_type": "code",
   "id": "initial_id",
   "metadata": {
    "collapsed": true,
    "ExecuteTime": {
     "end_time": "2025-02-22T10:17:45.744308Z",
     "start_time": "2025-02-22T10:17:45.095752Z"
    }
   },
   "source": [
    "import pandas as pd\n",
    "import os"
   ],
   "outputs": [],
   "execution_count": 1
  },
  {
   "metadata": {
    "ExecuteTime": {
     "end_time": "2025-02-22T10:17:46.610978Z",
     "start_time": "2025-02-22T10:17:45.744308Z"
    }
   },
   "cell_type": "code",
   "source": [
    "# Ottiene la directory di lavoro corrente\n",
    "script_dir = os.getcwd()\n",
    "\n",
    "# Costruisce il percorso relativo al file CSV\n",
    "file_path = os.path.join(script_dir, \"Data\", \"main_data\", \"releases.csv\")\n",
    "\n",
    "# Costruisce il percorso relativo al file CSV pulito\n",
    "clean_path = os.path.join(script_dir, \"Data\", \"clean_data\")\n",
    "\n",
    "# Crea la cartella clean_data se non esite\n",
    "if not os.path.exists(clean_path):\n",
    "    os.makedirs(clean_path)\n",
    "\n",
    "# Carica il CSV in un DataFrame\n",
    "df = pd.read_csv(file_path)"
   ],
   "id": "e56e8411a0310443",
   "outputs": [],
   "execution_count": 2
  },
  {
   "metadata": {
    "ExecuteTime": {
     "end_time": "2025-02-22T10:17:48.655039Z",
     "start_time": "2025-02-22T10:17:48.033097Z"
    }
   },
   "cell_type": "code",
   "source": [
    "# Rimuove duplicati\n",
    "df.drop_duplicates(inplace=True)"
   ],
   "id": "4d22b2bac299c4f2",
   "outputs": [],
   "execution_count": 3
  },
  {
   "metadata": {
    "ExecuteTime": {
     "end_time": "2025-02-22T10:17:50.169076Z",
     "start_time": "2025-02-22T10:17:49.350973Z"
    }
   },
   "cell_type": "code",
   "source": [
    "# Rimuove righe con troppi valori nulli (ad esempio, più del 50% dei dati mancanti)\n",
    "df.dropna(thresh=df.shape[1] * 0.5, inplace=True)\n",
    "\n",
    "# Sostituisce i valori nulli con \"Unknown\"\n",
    "df['country'] = df['country'].fillna(\"Unknown\")\n",
    "df['date'] = df['date'].fillna(\"Unknown\")\n",
    "df['type'] = df['type'].fillna(\"Unknown\")\n",
    "df['rating'] = df['rating'].fillna(\"Unknown\")"
   ],
   "id": "6f538b469c55f05b",
   "outputs": [],
   "execution_count": 4
  },
  {
   "metadata": {
    "ExecuteTime": {
     "end_time": "2025-02-22T10:17:53.761153Z",
     "start_time": "2025-02-22T10:17:51.354747Z"
    }
   },
   "cell_type": "code",
   "source": [
    "# Salva il file pulito\n",
    "cleaned_csv_path = os.path.join(clean_path, \"releases_cleaned.csv\")\n",
    "df.to_csv(cleaned_csv_path, index=False, encoding=\"utf-8\")"
   ],
   "id": "4391dd266a785148",
   "outputs": [],
   "execution_count": 5
  },
  {
   "metadata": {},
   "cell_type": "markdown",
   "source": "Caricamento file csv pulito nel database con MongoDB\n",
   "id": "494e042cc0c52058"
  },
  {
   "metadata": {
    "ExecuteTime": {
     "end_time": "2025-02-22T10:17:57.122424Z",
     "start_time": "2025-02-22T10:17:56.883223Z"
    }
   },
   "cell_type": "code",
   "source": "from pymongo import MongoClient",
   "id": "b9d6b561ba33a573",
   "outputs": [],
   "execution_count": 6
  },
  {
   "metadata": {
    "ExecuteTime": {
     "end_time": "2025-02-22T10:18:44.389889Z",
     "start_time": "2025-02-22T10:17:57.981527Z"
    }
   },
   "cell_type": "code",
   "source": [
    "# Configura MongoDB (modifica se necessario)\n",
    "MONGO_URL = \"mongodb://localhost:27017/\"\n",
    "DB_NAME = \"ium_database\"\n",
    "COLLECTION_NAME = \"releases_data\"\n",
    "\n",
    "# Connessione a MongoDB\n",
    "client = MongoClient(MONGO_URL)\n",
    "db = client[DB_NAME]\n",
    "collection = db[COLLECTION_NAME]\n",
    "\n",
    "# Carica il CSV con Pandas\n",
    "df = pd.read_csv(cleaned_csv_path)\n",
    "\n",
    "# Converte il DataFrame in JSON-like per MongoDB\n",
    "data = df.to_dict(orient=\"records\")\n",
    "\n",
    "# Usa insert_many() per inserire tutto in un'unica operazione (molto più veloce)\n",
    "collection.insert_many(data, ordered=False); #il ; non fa stampare l'output su jupyter"
   ],
   "id": "a1b05944160d560d",
   "outputs": [
    {
     "ename": "ServerSelectionTimeoutError",
     "evalue": "localhost:27017: [WinError 10061] Impossibile stabilire la connessione. Rifiuto persistente del computer di destinazione (configured timeouts: socketTimeoutMS: 20000.0ms, connectTimeoutMS: 20000.0ms), Timeout: 30s, Topology Description: <TopologyDescription id: 67b9a4557b1d0acc7b165b99, topology_type: Unknown, servers: [<ServerDescription ('localhost', 27017) server_type: Unknown, rtt: None, error=AutoReconnect('localhost:27017: [WinError 10061] Impossibile stabilire la connessione. Rifiuto persistente del computer di destinazione (configured timeouts: socketTimeoutMS: 20000.0ms, connectTimeoutMS: 20000.0ms)')>]>",
     "output_type": "error",
     "traceback": [
      "\u001B[1;31m---------------------------------------------------------------------------\u001B[0m",
      "\u001B[1;31mServerSelectionTimeoutError\u001B[0m               Traceback (most recent call last)",
      "Cell \u001B[1;32mIn[7], line 18\u001B[0m\n\u001B[0;32m     15\u001B[0m data \u001B[38;5;241m=\u001B[39m df\u001B[38;5;241m.\u001B[39mto_dict(orient\u001B[38;5;241m=\u001B[39m\u001B[38;5;124m\"\u001B[39m\u001B[38;5;124mrecords\u001B[39m\u001B[38;5;124m\"\u001B[39m)\n\u001B[0;32m     17\u001B[0m \u001B[38;5;66;03m# Usa insert_many() per inserire tutto in un'unica operazione (molto più veloce)\u001B[39;00m\n\u001B[1;32m---> 18\u001B[0m collection\u001B[38;5;241m.\u001B[39minsert_many(data, ordered\u001B[38;5;241m=\u001B[39m\u001B[38;5;28;01mFalse\u001B[39;00m)\n",
      "File \u001B[1;32m~\\miniconda3\\Lib\\site-packages\\pymongo\\_csot.py:108\u001B[0m, in \u001B[0;36mapply.<locals>.csot_wrapper\u001B[1;34m(self, *args, **kwargs)\u001B[0m\n\u001B[0;32m    106\u001B[0m         \u001B[38;5;28;01mwith\u001B[39;00m _TimeoutContext(timeout):\n\u001B[0;32m    107\u001B[0m             \u001B[38;5;28;01mreturn\u001B[39;00m func(\u001B[38;5;28mself\u001B[39m, \u001B[38;5;241m*\u001B[39margs, \u001B[38;5;241m*\u001B[39m\u001B[38;5;241m*\u001B[39mkwargs)\n\u001B[1;32m--> 108\u001B[0m \u001B[38;5;28;01mreturn\u001B[39;00m func(\u001B[38;5;28mself\u001B[39m, \u001B[38;5;241m*\u001B[39margs, \u001B[38;5;241m*\u001B[39m\u001B[38;5;241m*\u001B[39mkwargs)\n",
      "File \u001B[1;32m~\\miniconda3\\Lib\\site-packages\\pymongo\\collection.py:742\u001B[0m, in \u001B[0;36mCollection.insert_many\u001B[1;34m(self, documents, ordered, bypass_document_validation, session, comment)\u001B[0m\n\u001B[0;32m    740\u001B[0m blk \u001B[38;5;241m=\u001B[39m _Bulk(\u001B[38;5;28mself\u001B[39m, ordered, bypass_document_validation, comment\u001B[38;5;241m=\u001B[39mcomment)\n\u001B[0;32m    741\u001B[0m blk\u001B[38;5;241m.\u001B[39mops \u001B[38;5;241m=\u001B[39m \u001B[38;5;28mlist\u001B[39m(gen())\n\u001B[1;32m--> 742\u001B[0m blk\u001B[38;5;241m.\u001B[39mexecute(write_concern, session, _Op\u001B[38;5;241m.\u001B[39mINSERT)\n\u001B[0;32m    743\u001B[0m \u001B[38;5;28;01mreturn\u001B[39;00m InsertManyResult(inserted_ids, write_concern\u001B[38;5;241m.\u001B[39macknowledged)\n",
      "File \u001B[1;32m~\\miniconda3\\Lib\\site-packages\\pymongo\\bulk.py:595\u001B[0m, in \u001B[0;36m_Bulk.execute\u001B[1;34m(self, write_concern, session, operation)\u001B[0m\n\u001B[0;32m    593\u001B[0m         \u001B[38;5;28;01mreturn\u001B[39;00m \u001B[38;5;28;01mNone\u001B[39;00m\n\u001B[0;32m    594\u001B[0m \u001B[38;5;28;01melse\u001B[39;00m:\n\u001B[1;32m--> 595\u001B[0m     \u001B[38;5;28;01mreturn\u001B[39;00m \u001B[38;5;28mself\u001B[39m\u001B[38;5;241m.\u001B[39mexecute_command(generator, write_concern, session, operation)\n",
      "File \u001B[1;32m~\\miniconda3\\Lib\\site-packages\\pymongo\\bulk.py:452\u001B[0m, in \u001B[0;36m_Bulk.execute_command\u001B[1;34m(self, generator, write_concern, session, operation)\u001B[0m\n\u001B[0;32m    441\u001B[0m     \u001B[38;5;28mself\u001B[39m\u001B[38;5;241m.\u001B[39m_execute_command(\n\u001B[0;32m    442\u001B[0m         generator,\n\u001B[0;32m    443\u001B[0m         write_concern,\n\u001B[1;32m   (...)\u001B[0m\n\u001B[0;32m    448\u001B[0m         full_result,\n\u001B[0;32m    449\u001B[0m     )\n\u001B[0;32m    451\u001B[0m client \u001B[38;5;241m=\u001B[39m \u001B[38;5;28mself\u001B[39m\u001B[38;5;241m.\u001B[39mcollection\u001B[38;5;241m.\u001B[39mdatabase\u001B[38;5;241m.\u001B[39mclient\n\u001B[1;32m--> 452\u001B[0m client\u001B[38;5;241m.\u001B[39m_retryable_write(\n\u001B[0;32m    453\u001B[0m     \u001B[38;5;28mself\u001B[39m\u001B[38;5;241m.\u001B[39mis_retryable,\n\u001B[0;32m    454\u001B[0m     retryable_bulk,\n\u001B[0;32m    455\u001B[0m     session,\n\u001B[0;32m    456\u001B[0m     operation,\n\u001B[0;32m    457\u001B[0m     bulk\u001B[38;5;241m=\u001B[39m\u001B[38;5;28mself\u001B[39m,\n\u001B[0;32m    458\u001B[0m     operation_id\u001B[38;5;241m=\u001B[39mop_id,\n\u001B[0;32m    459\u001B[0m )\n\u001B[0;32m    461\u001B[0m \u001B[38;5;28;01mif\u001B[39;00m full_result[\u001B[38;5;124m\"\u001B[39m\u001B[38;5;124mwriteErrors\u001B[39m\u001B[38;5;124m\"\u001B[39m] \u001B[38;5;129;01mor\u001B[39;00m full_result[\u001B[38;5;124m\"\u001B[39m\u001B[38;5;124mwriteConcernErrors\u001B[39m\u001B[38;5;124m\"\u001B[39m]:\n\u001B[0;32m    462\u001B[0m     _raise_bulk_write_error(full_result)\n",
      "File \u001B[1;32m~\\miniconda3\\Lib\\site-packages\\pymongo\\mongo_client.py:1575\u001B[0m, in \u001B[0;36mMongoClient._retryable_write\u001B[1;34m(self, retryable, func, session, operation, bulk, operation_id)\u001B[0m\n\u001B[0;32m   1561\u001B[0m \u001B[38;5;250m\u001B[39m\u001B[38;5;124;03m\"\"\"Execute an operation with consecutive retries if possible\u001B[39;00m\n\u001B[0;32m   1562\u001B[0m \n\u001B[0;32m   1563\u001B[0m \u001B[38;5;124;03mReturns func()'s return value on success. On error retries the same\u001B[39;00m\n\u001B[1;32m   (...)\u001B[0m\n\u001B[0;32m   1572\u001B[0m \u001B[38;5;124;03m:param bulk: bulk abstraction to execute operations in bulk, defaults to None\u001B[39;00m\n\u001B[0;32m   1573\u001B[0m \u001B[38;5;124;03m\"\"\"\u001B[39;00m\n\u001B[0;32m   1574\u001B[0m \u001B[38;5;28;01mwith\u001B[39;00m \u001B[38;5;28mself\u001B[39m\u001B[38;5;241m.\u001B[39m_tmp_session(session) \u001B[38;5;28;01mas\u001B[39;00m s:\n\u001B[1;32m-> 1575\u001B[0m     \u001B[38;5;28;01mreturn\u001B[39;00m \u001B[38;5;28mself\u001B[39m\u001B[38;5;241m.\u001B[39m_retry_with_session(retryable, func, s, bulk, operation, operation_id)\n",
      "File \u001B[1;32m~\\miniconda3\\Lib\\site-packages\\pymongo\\mongo_client.py:1461\u001B[0m, in \u001B[0;36mMongoClient._retry_with_session\u001B[1;34m(self, retryable, func, session, bulk, operation, operation_id)\u001B[0m\n\u001B[0;32m   1456\u001B[0m \u001B[38;5;66;03m# Ensure that the options supports retry_writes and there is a valid session not in\u001B[39;00m\n\u001B[0;32m   1457\u001B[0m \u001B[38;5;66;03m# transaction, otherwise, we will not support retry behavior for this txn.\u001B[39;00m\n\u001B[0;32m   1458\u001B[0m retryable \u001B[38;5;241m=\u001B[39m \u001B[38;5;28mbool\u001B[39m(\n\u001B[0;32m   1459\u001B[0m     retryable \u001B[38;5;129;01mand\u001B[39;00m \u001B[38;5;28mself\u001B[39m\u001B[38;5;241m.\u001B[39moptions\u001B[38;5;241m.\u001B[39mretry_writes \u001B[38;5;129;01mand\u001B[39;00m session \u001B[38;5;129;01mand\u001B[39;00m \u001B[38;5;129;01mnot\u001B[39;00m session\u001B[38;5;241m.\u001B[39min_transaction\n\u001B[0;32m   1460\u001B[0m )\n\u001B[1;32m-> 1461\u001B[0m \u001B[38;5;28;01mreturn\u001B[39;00m \u001B[38;5;28mself\u001B[39m\u001B[38;5;241m.\u001B[39m_retry_internal(\n\u001B[0;32m   1462\u001B[0m     func\u001B[38;5;241m=\u001B[39mfunc,\n\u001B[0;32m   1463\u001B[0m     session\u001B[38;5;241m=\u001B[39msession,\n\u001B[0;32m   1464\u001B[0m     bulk\u001B[38;5;241m=\u001B[39mbulk,\n\u001B[0;32m   1465\u001B[0m     operation\u001B[38;5;241m=\u001B[39moperation,\n\u001B[0;32m   1466\u001B[0m     retryable\u001B[38;5;241m=\u001B[39mretryable,\n\u001B[0;32m   1467\u001B[0m     operation_id\u001B[38;5;241m=\u001B[39moperation_id,\n\u001B[0;32m   1468\u001B[0m )\n",
      "File \u001B[1;32m~\\miniconda3\\Lib\\site-packages\\pymongo\\_csot.py:108\u001B[0m, in \u001B[0;36mapply.<locals>.csot_wrapper\u001B[1;34m(self, *args, **kwargs)\u001B[0m\n\u001B[0;32m    106\u001B[0m         \u001B[38;5;28;01mwith\u001B[39;00m _TimeoutContext(timeout):\n\u001B[0;32m    107\u001B[0m             \u001B[38;5;28;01mreturn\u001B[39;00m func(\u001B[38;5;28mself\u001B[39m, \u001B[38;5;241m*\u001B[39margs, \u001B[38;5;241m*\u001B[39m\u001B[38;5;241m*\u001B[39mkwargs)\n\u001B[1;32m--> 108\u001B[0m \u001B[38;5;28;01mreturn\u001B[39;00m func(\u001B[38;5;28mself\u001B[39m, \u001B[38;5;241m*\u001B[39margs, \u001B[38;5;241m*\u001B[39m\u001B[38;5;241m*\u001B[39mkwargs)\n",
      "File \u001B[1;32m~\\miniconda3\\Lib\\site-packages\\pymongo\\mongo_client.py:1507\u001B[0m, in \u001B[0;36mMongoClient._retry_internal\u001B[1;34m(self, func, session, bulk, operation, is_read, address, read_pref, retryable, operation_id)\u001B[0m\n\u001B[0;32m   1470\u001B[0m \u001B[38;5;129m@_csot\u001B[39m\u001B[38;5;241m.\u001B[39mapply\n\u001B[0;32m   1471\u001B[0m \u001B[38;5;28;01mdef\u001B[39;00m \u001B[38;5;21m_retry_internal\u001B[39m(\n\u001B[0;32m   1472\u001B[0m     \u001B[38;5;28mself\u001B[39m,\n\u001B[1;32m   (...)\u001B[0m\n\u001B[0;32m   1481\u001B[0m     operation_id: Optional[\u001B[38;5;28mint\u001B[39m] \u001B[38;5;241m=\u001B[39m \u001B[38;5;28;01mNone\u001B[39;00m,\n\u001B[0;32m   1482\u001B[0m ) \u001B[38;5;241m-\u001B[39m\u001B[38;5;241m>\u001B[39m T:\n\u001B[0;32m   1483\u001B[0m \u001B[38;5;250m    \u001B[39m\u001B[38;5;124;03m\"\"\"Internal retryable helper for all client transactions.\u001B[39;00m\n\u001B[0;32m   1484\u001B[0m \n\u001B[0;32m   1485\u001B[0m \u001B[38;5;124;03m    :param func: Callback function we want to retry\u001B[39;00m\n\u001B[1;32m   (...)\u001B[0m\n\u001B[0;32m   1494\u001B[0m \u001B[38;5;124;03m    :return: Output of the calling func()\u001B[39;00m\n\u001B[0;32m   1495\u001B[0m \u001B[38;5;124;03m    \"\"\"\u001B[39;00m\n\u001B[0;32m   1496\u001B[0m     \u001B[38;5;28;01mreturn\u001B[39;00m _ClientConnectionRetryable(\n\u001B[0;32m   1497\u001B[0m         mongo_client\u001B[38;5;241m=\u001B[39m\u001B[38;5;28mself\u001B[39m,\n\u001B[0;32m   1498\u001B[0m         func\u001B[38;5;241m=\u001B[39mfunc,\n\u001B[0;32m   1499\u001B[0m         bulk\u001B[38;5;241m=\u001B[39mbulk,\n\u001B[0;32m   1500\u001B[0m         operation\u001B[38;5;241m=\u001B[39moperation,\n\u001B[0;32m   1501\u001B[0m         is_read\u001B[38;5;241m=\u001B[39mis_read,\n\u001B[0;32m   1502\u001B[0m         session\u001B[38;5;241m=\u001B[39msession,\n\u001B[0;32m   1503\u001B[0m         read_pref\u001B[38;5;241m=\u001B[39mread_pref,\n\u001B[0;32m   1504\u001B[0m         address\u001B[38;5;241m=\u001B[39maddress,\n\u001B[0;32m   1505\u001B[0m         retryable\u001B[38;5;241m=\u001B[39mretryable,\n\u001B[0;32m   1506\u001B[0m         operation_id\u001B[38;5;241m=\u001B[39moperation_id,\n\u001B[1;32m-> 1507\u001B[0m     )\u001B[38;5;241m.\u001B[39mrun()\n",
      "File \u001B[1;32m~\\miniconda3\\Lib\\site-packages\\pymongo\\mongo_client.py:2353\u001B[0m, in \u001B[0;36m_ClientConnectionRetryable.run\u001B[1;34m(self)\u001B[0m\n\u001B[0;32m   2351\u001B[0m \u001B[38;5;28mself\u001B[39m\u001B[38;5;241m.\u001B[39m_check_last_error(check_csot\u001B[38;5;241m=\u001B[39m\u001B[38;5;28;01mTrue\u001B[39;00m)\n\u001B[0;32m   2352\u001B[0m \u001B[38;5;28;01mtry\u001B[39;00m:\n\u001B[1;32m-> 2353\u001B[0m     \u001B[38;5;28;01mreturn\u001B[39;00m \u001B[38;5;28mself\u001B[39m\u001B[38;5;241m.\u001B[39m_read() \u001B[38;5;28;01mif\u001B[39;00m \u001B[38;5;28mself\u001B[39m\u001B[38;5;241m.\u001B[39m_is_read \u001B[38;5;28;01melse\u001B[39;00m \u001B[38;5;28mself\u001B[39m\u001B[38;5;241m.\u001B[39m_write()\n\u001B[0;32m   2354\u001B[0m \u001B[38;5;28;01mexcept\u001B[39;00m ServerSelectionTimeoutError:\n\u001B[0;32m   2355\u001B[0m     \u001B[38;5;66;03m# The application may think the write was never attempted\u001B[39;00m\n\u001B[0;32m   2356\u001B[0m     \u001B[38;5;66;03m# if we raise ServerSelectionTimeoutError on the retry\u001B[39;00m\n\u001B[0;32m   2357\u001B[0m     \u001B[38;5;66;03m# attempt. Raise the original exception instead.\u001B[39;00m\n\u001B[0;32m   2358\u001B[0m     \u001B[38;5;28mself\u001B[39m\u001B[38;5;241m.\u001B[39m_check_last_error()\n",
      "File \u001B[1;32m~\\miniconda3\\Lib\\site-packages\\pymongo\\mongo_client.py:2456\u001B[0m, in \u001B[0;36m_ClientConnectionRetryable._write\u001B[1;34m(self)\u001B[0m\n\u001B[0;32m   2454\u001B[0m max_wire_version \u001B[38;5;241m=\u001B[39m \u001B[38;5;241m0\u001B[39m\n\u001B[0;32m   2455\u001B[0m is_mongos \u001B[38;5;241m=\u001B[39m \u001B[38;5;28;01mFalse\u001B[39;00m\n\u001B[1;32m-> 2456\u001B[0m \u001B[38;5;28mself\u001B[39m\u001B[38;5;241m.\u001B[39m_server \u001B[38;5;241m=\u001B[39m \u001B[38;5;28mself\u001B[39m\u001B[38;5;241m.\u001B[39m_get_server()\n\u001B[0;32m   2457\u001B[0m \u001B[38;5;28;01mwith\u001B[39;00m \u001B[38;5;28mself\u001B[39m\u001B[38;5;241m.\u001B[39m_client\u001B[38;5;241m.\u001B[39m_checkout(\u001B[38;5;28mself\u001B[39m\u001B[38;5;241m.\u001B[39m_server, \u001B[38;5;28mself\u001B[39m\u001B[38;5;241m.\u001B[39m_session) \u001B[38;5;28;01mas\u001B[39;00m conn:\n\u001B[0;32m   2458\u001B[0m     max_wire_version \u001B[38;5;241m=\u001B[39m conn\u001B[38;5;241m.\u001B[39mmax_wire_version\n",
      "File \u001B[1;32m~\\miniconda3\\Lib\\site-packages\\pymongo\\mongo_client.py:2439\u001B[0m, in \u001B[0;36m_ClientConnectionRetryable._get_server\u001B[1;34m(self)\u001B[0m\n\u001B[0;32m   2434\u001B[0m \u001B[38;5;28;01mdef\u001B[39;00m \u001B[38;5;21m_get_server\u001B[39m(\u001B[38;5;28mself\u001B[39m) \u001B[38;5;241m-\u001B[39m\u001B[38;5;241m>\u001B[39m Server:\n\u001B[0;32m   2435\u001B[0m \u001B[38;5;250m    \u001B[39m\u001B[38;5;124;03m\"\"\"Retrieves a server object based on provided object context\u001B[39;00m\n\u001B[0;32m   2436\u001B[0m \n\u001B[0;32m   2437\u001B[0m \u001B[38;5;124;03m    :return: Abstraction to connect to server\u001B[39;00m\n\u001B[0;32m   2438\u001B[0m \u001B[38;5;124;03m    \"\"\"\u001B[39;00m\n\u001B[1;32m-> 2439\u001B[0m     \u001B[38;5;28;01mreturn\u001B[39;00m \u001B[38;5;28mself\u001B[39m\u001B[38;5;241m.\u001B[39m_client\u001B[38;5;241m.\u001B[39m_select_server(\n\u001B[0;32m   2440\u001B[0m         \u001B[38;5;28mself\u001B[39m\u001B[38;5;241m.\u001B[39m_server_selector,\n\u001B[0;32m   2441\u001B[0m         \u001B[38;5;28mself\u001B[39m\u001B[38;5;241m.\u001B[39m_session,\n\u001B[0;32m   2442\u001B[0m         \u001B[38;5;28mself\u001B[39m\u001B[38;5;241m.\u001B[39m_operation,\n\u001B[0;32m   2443\u001B[0m         address\u001B[38;5;241m=\u001B[39m\u001B[38;5;28mself\u001B[39m\u001B[38;5;241m.\u001B[39m_address,\n\u001B[0;32m   2444\u001B[0m         deprioritized_servers\u001B[38;5;241m=\u001B[39m\u001B[38;5;28mself\u001B[39m\u001B[38;5;241m.\u001B[39m_deprioritized_servers,\n\u001B[0;32m   2445\u001B[0m         operation_id\u001B[38;5;241m=\u001B[39m\u001B[38;5;28mself\u001B[39m\u001B[38;5;241m.\u001B[39m_operation_id,\n\u001B[0;32m   2446\u001B[0m     )\n",
      "File \u001B[1;32m~\\miniconda3\\Lib\\site-packages\\pymongo\\mongo_client.py:1322\u001B[0m, in \u001B[0;36mMongoClient._select_server\u001B[1;34m(self, server_selector, session, operation, address, deprioritized_servers, operation_id)\u001B[0m\n\u001B[0;32m   1320\u001B[0m             \u001B[38;5;28;01mraise\u001B[39;00m AutoReconnect(\u001B[38;5;124m\"\u001B[39m\u001B[38;5;124mserver \u001B[39m\u001B[38;5;132;01m%s\u001B[39;00m\u001B[38;5;124m:\u001B[39m\u001B[38;5;132;01m%s\u001B[39;00m\u001B[38;5;124m no longer available\u001B[39m\u001B[38;5;124m\"\u001B[39m \u001B[38;5;241m%\u001B[39m address)  \u001B[38;5;66;03m# noqa: UP031\u001B[39;00m\n\u001B[0;32m   1321\u001B[0m     \u001B[38;5;28;01melse\u001B[39;00m:\n\u001B[1;32m-> 1322\u001B[0m         server \u001B[38;5;241m=\u001B[39m topology\u001B[38;5;241m.\u001B[39mselect_server(\n\u001B[0;32m   1323\u001B[0m             server_selector,\n\u001B[0;32m   1324\u001B[0m             operation,\n\u001B[0;32m   1325\u001B[0m             deprioritized_servers\u001B[38;5;241m=\u001B[39mdeprioritized_servers,\n\u001B[0;32m   1326\u001B[0m             operation_id\u001B[38;5;241m=\u001B[39moperation_id,\n\u001B[0;32m   1327\u001B[0m         )\n\u001B[0;32m   1328\u001B[0m     \u001B[38;5;28;01mreturn\u001B[39;00m server\n\u001B[0;32m   1329\u001B[0m \u001B[38;5;28;01mexcept\u001B[39;00m PyMongoError \u001B[38;5;28;01mas\u001B[39;00m exc:\n\u001B[0;32m   1330\u001B[0m     \u001B[38;5;66;03m# Server selection errors in a transaction are transient.\u001B[39;00m\n",
      "File \u001B[1;32m~\\miniconda3\\Lib\\site-packages\\pymongo\\topology.py:368\u001B[0m, in \u001B[0;36mTopology.select_server\u001B[1;34m(self, selector, operation, server_selection_timeout, address, deprioritized_servers, operation_id)\u001B[0m\n\u001B[0;32m    358\u001B[0m \u001B[38;5;28;01mdef\u001B[39;00m \u001B[38;5;21mselect_server\u001B[39m(\n\u001B[0;32m    359\u001B[0m     \u001B[38;5;28mself\u001B[39m,\n\u001B[0;32m    360\u001B[0m     selector: Callable[[Selection], Selection],\n\u001B[1;32m   (...)\u001B[0m\n\u001B[0;32m    365\u001B[0m     operation_id: Optional[\u001B[38;5;28mint\u001B[39m] \u001B[38;5;241m=\u001B[39m \u001B[38;5;28;01mNone\u001B[39;00m,\n\u001B[0;32m    366\u001B[0m ) \u001B[38;5;241m-\u001B[39m\u001B[38;5;241m>\u001B[39m Server:\n\u001B[0;32m    367\u001B[0m \u001B[38;5;250m    \u001B[39m\u001B[38;5;124;03m\"\"\"Like select_servers, but choose a random server if several match.\"\"\"\u001B[39;00m\n\u001B[1;32m--> 368\u001B[0m     server \u001B[38;5;241m=\u001B[39m \u001B[38;5;28mself\u001B[39m\u001B[38;5;241m.\u001B[39m_select_server(\n\u001B[0;32m    369\u001B[0m         selector,\n\u001B[0;32m    370\u001B[0m         operation,\n\u001B[0;32m    371\u001B[0m         server_selection_timeout,\n\u001B[0;32m    372\u001B[0m         address,\n\u001B[0;32m    373\u001B[0m         deprioritized_servers,\n\u001B[0;32m    374\u001B[0m         operation_id\u001B[38;5;241m=\u001B[39moperation_id,\n\u001B[0;32m    375\u001B[0m     )\n\u001B[0;32m    376\u001B[0m     \u001B[38;5;28;01mif\u001B[39;00m _csot\u001B[38;5;241m.\u001B[39mget_timeout():\n\u001B[0;32m    377\u001B[0m         _csot\u001B[38;5;241m.\u001B[39mset_rtt(server\u001B[38;5;241m.\u001B[39mdescription\u001B[38;5;241m.\u001B[39mmin_round_trip_time)\n",
      "File \u001B[1;32m~\\miniconda3\\Lib\\site-packages\\pymongo\\topology.py:346\u001B[0m, in \u001B[0;36mTopology._select_server\u001B[1;34m(self, selector, operation, server_selection_timeout, address, deprioritized_servers, operation_id)\u001B[0m\n\u001B[0;32m    337\u001B[0m \u001B[38;5;28;01mdef\u001B[39;00m \u001B[38;5;21m_select_server\u001B[39m(\n\u001B[0;32m    338\u001B[0m     \u001B[38;5;28mself\u001B[39m,\n\u001B[0;32m    339\u001B[0m     selector: Callable[[Selection], Selection],\n\u001B[1;32m   (...)\u001B[0m\n\u001B[0;32m    344\u001B[0m     operation_id: Optional[\u001B[38;5;28mint\u001B[39m] \u001B[38;5;241m=\u001B[39m \u001B[38;5;28;01mNone\u001B[39;00m,\n\u001B[0;32m    345\u001B[0m ) \u001B[38;5;241m-\u001B[39m\u001B[38;5;241m>\u001B[39m Server:\n\u001B[1;32m--> 346\u001B[0m     servers \u001B[38;5;241m=\u001B[39m \u001B[38;5;28mself\u001B[39m\u001B[38;5;241m.\u001B[39mselect_servers(\n\u001B[0;32m    347\u001B[0m         selector, operation, server_selection_timeout, address, operation_id\n\u001B[0;32m    348\u001B[0m     )\n\u001B[0;32m    349\u001B[0m     servers \u001B[38;5;241m=\u001B[39m _filter_servers(servers, deprioritized_servers)\n\u001B[0;32m    350\u001B[0m     \u001B[38;5;28;01mif\u001B[39;00m \u001B[38;5;28mlen\u001B[39m(servers) \u001B[38;5;241m==\u001B[39m \u001B[38;5;241m1\u001B[39m:\n",
      "File \u001B[1;32m~\\miniconda3\\Lib\\site-packages\\pymongo\\topology.py:253\u001B[0m, in \u001B[0;36mTopology.select_servers\u001B[1;34m(self, selector, operation, server_selection_timeout, address, operation_id)\u001B[0m\n\u001B[0;32m    250\u001B[0m     server_timeout \u001B[38;5;241m=\u001B[39m server_selection_timeout\n\u001B[0;32m    252\u001B[0m \u001B[38;5;28;01mwith\u001B[39;00m \u001B[38;5;28mself\u001B[39m\u001B[38;5;241m.\u001B[39m_lock:\n\u001B[1;32m--> 253\u001B[0m     server_descriptions \u001B[38;5;241m=\u001B[39m \u001B[38;5;28mself\u001B[39m\u001B[38;5;241m.\u001B[39m_select_servers_loop(\n\u001B[0;32m    254\u001B[0m         selector, server_timeout, operation, operation_id, address\n\u001B[0;32m    255\u001B[0m     )\n\u001B[0;32m    257\u001B[0m     \u001B[38;5;28;01mreturn\u001B[39;00m [\n\u001B[0;32m    258\u001B[0m         cast(Server, \u001B[38;5;28mself\u001B[39m\u001B[38;5;241m.\u001B[39mget_server_by_address(sd\u001B[38;5;241m.\u001B[39maddress)) \u001B[38;5;28;01mfor\u001B[39;00m sd \u001B[38;5;129;01min\u001B[39;00m server_descriptions\n\u001B[0;32m    259\u001B[0m     ]\n",
      "File \u001B[1;32m~\\miniconda3\\Lib\\site-packages\\pymongo\\topology.py:303\u001B[0m, in \u001B[0;36mTopology._select_servers_loop\u001B[1;34m(self, selector, timeout, operation, operation_id, address)\u001B[0m\n\u001B[0;32m    292\u001B[0m     \u001B[38;5;28;01mif\u001B[39;00m _SERVER_SELECTION_LOGGER\u001B[38;5;241m.\u001B[39misEnabledFor(logging\u001B[38;5;241m.\u001B[39mDEBUG):\n\u001B[0;32m    293\u001B[0m         _debug_log(\n\u001B[0;32m    294\u001B[0m             _SERVER_SELECTION_LOGGER,\n\u001B[0;32m    295\u001B[0m             message\u001B[38;5;241m=\u001B[39m_ServerSelectionStatusMessage\u001B[38;5;241m.\u001B[39mFAILED,\n\u001B[1;32m   (...)\u001B[0m\n\u001B[0;32m    301\u001B[0m             failure\u001B[38;5;241m=\u001B[39m\u001B[38;5;28mself\u001B[39m\u001B[38;5;241m.\u001B[39m_error_message(selector),\n\u001B[0;32m    302\u001B[0m         )\n\u001B[1;32m--> 303\u001B[0m     \u001B[38;5;28;01mraise\u001B[39;00m ServerSelectionTimeoutError(\n\u001B[0;32m    304\u001B[0m         \u001B[38;5;124mf\u001B[39m\u001B[38;5;124m\"\u001B[39m\u001B[38;5;132;01m{\u001B[39;00m\u001B[38;5;28mself\u001B[39m\u001B[38;5;241m.\u001B[39m_error_message(selector)\u001B[38;5;132;01m}\u001B[39;00m\u001B[38;5;124m, Timeout: \u001B[39m\u001B[38;5;132;01m{\u001B[39;00mtimeout\u001B[38;5;132;01m}\u001B[39;00m\u001B[38;5;124ms, Topology Description: \u001B[39m\u001B[38;5;132;01m{\u001B[39;00m\u001B[38;5;28mself\u001B[39m\u001B[38;5;241m.\u001B[39mdescription\u001B[38;5;132;01m!r}\u001B[39;00m\u001B[38;5;124m\"\u001B[39m\n\u001B[0;32m    305\u001B[0m     )\n\u001B[0;32m    307\u001B[0m \u001B[38;5;28;01mif\u001B[39;00m \u001B[38;5;129;01mnot\u001B[39;00m logged_waiting:\n\u001B[0;32m    308\u001B[0m     _debug_log(\n\u001B[0;32m    309\u001B[0m         _SERVER_SELECTION_LOGGER,\n\u001B[0;32m    310\u001B[0m         message\u001B[38;5;241m=\u001B[39m_ServerSelectionStatusMessage\u001B[38;5;241m.\u001B[39mWAITING,\n\u001B[1;32m   (...)\u001B[0m\n\u001B[0;32m    316\u001B[0m         remainingTimeMS\u001B[38;5;241m=\u001B[39m\u001B[38;5;28mint\u001B[39m(end_time \u001B[38;5;241m-\u001B[39m time\u001B[38;5;241m.\u001B[39mmonotonic()),\n\u001B[0;32m    317\u001B[0m     )\n",
      "\u001B[1;31mServerSelectionTimeoutError\u001B[0m: localhost:27017: [WinError 10061] Impossibile stabilire la connessione. Rifiuto persistente del computer di destinazione (configured timeouts: socketTimeoutMS: 20000.0ms, connectTimeoutMS: 20000.0ms), Timeout: 30s, Topology Description: <TopologyDescription id: 67b9a4557b1d0acc7b165b99, topology_type: Unknown, servers: [<ServerDescription ('localhost', 27017) server_type: Unknown, rtt: None, error=AutoReconnect('localhost:27017: [WinError 10061] Impossibile stabilire la connessione. Rifiuto persistente del computer di destinazione (configured timeouts: socketTimeoutMS: 20000.0ms, connectTimeoutMS: 20000.0ms)')>]>"
     ]
    }
   ],
   "execution_count": 7
  }
 ],
 "metadata": {
  "kernelspec": {
   "display_name": "Python 3",
   "language": "python",
   "name": "python3"
  },
  "language_info": {
   "codemirror_mode": {
    "name": "ipython",
    "version": 2
   },
   "file_extension": ".py",
   "mimetype": "text/x-python",
   "name": "python",
   "nbconvert_exporter": "python",
   "pygments_lexer": "ipython2",
   "version": "2.7.6"
  }
 },
 "nbformat": 4,
 "nbformat_minor": 5
}
