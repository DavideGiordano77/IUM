{
 "cells": [
  {
   "cell_type": "code",
   "id": "initial_id",
   "metadata": {
    "collapsed": true,
    "ExecuteTime": {
     "end_time": "2025-02-21T10:30:11.578998Z",
     "start_time": "2025-02-21T10:30:10.877154Z"
    }
   },
   "source": [
    "import pandas as pd\n",
    "import os"
   ],
   "outputs": [],
   "execution_count": 1
  },
  {
   "metadata": {
    "ExecuteTime": {
     "end_time": "2025-02-21T10:32:17.660300Z",
     "start_time": "2025-02-21T10:32:16.548909Z"
    }
   },
   "cell_type": "code",
   "source": [
    "# Ottiene la directory di lavoro corrente\n",
    "script_dir = os.getcwd()\n",
    "\n",
    "# Costruisce il percorso relativo al file CSV\n",
    "file_path = os.path.join(script_dir, \"Data\", \"main_data\", \"releases.csv\")\n",
    "\n",
    "# Costruisce il percorso relativo al file CSV pulito\n",
    "clean_path = os.path.join(script_dir, \"Data\", \"clean_data\")\n",
    "\n",
    "# Crea la cartella clean_data se non esite\n",
    "if not os.path.exists(clean_path):\n",
    "    os.makedirs(clean_path)\n",
    "\n",
    "# Carica il CSV in un DataFrame\n",
    "df = pd.read_csv(file_path)"
   ],
   "id": "e56e8411a0310443",
   "outputs": [],
   "execution_count": 5
  },
  {
   "metadata": {
    "ExecuteTime": {
     "end_time": "2025-02-21T10:32:19.418718Z",
     "start_time": "2025-02-21T10:32:18.869067Z"
    }
   },
   "cell_type": "code",
   "source": [
    "# Rimuove duplicati\n",
    "df.drop_duplicates(inplace=True)"
   ],
   "id": "4d22b2bac299c4f2",
   "outputs": [],
   "execution_count": 6
  },
  {
   "metadata": {
    "ExecuteTime": {
     "end_time": "2025-02-21T10:32:42.343852Z",
     "start_time": "2025-02-21T10:32:41.601644Z"
    }
   },
   "cell_type": "code",
   "source": [
    "# Rimuove righe con troppi valori nulli (ad esempio, più del 50% dei dati mancanti)\n",
    "df.dropna(thresh=df.shape[1] * 0.5, inplace=True)\n",
    "\n",
    "# Sostituisce i valori nulli con \"Unknown\"\n",
    "df['country'] = df['country'].fillna(\"Unknown\")\n",
    "df['date'] = df['date'].fillna(\"Unknown\")\n",
    "df['type'] = df['type'].fillna(\"Unknown\")\n",
    "df['rating'] = df['rating'].fillna(\"Unknown\")"
   ],
   "id": "6f538b469c55f05b",
   "outputs": [],
   "execution_count": 8
  },
  {
   "metadata": {
    "ExecuteTime": {
     "end_time": "2025-02-21T10:32:46.234113Z",
     "start_time": "2025-02-21T10:32:44.029654Z"
    }
   },
   "cell_type": "code",
   "source": [
    "# Salva il file pulito\n",
    "cleaned_csv_path = os.path.join(clean_path, \"releases_cleaned.csv\")\n",
    "df.to_csv(cleaned_csv_path, index=False, encoding=\"utf-8\")"
   ],
   "id": "4391dd266a785148",
   "outputs": [],
   "execution_count": 9
  },
  {
   "metadata": {},
   "cell_type": "markdown",
   "source": "Caricamento file csv pulito nel database con MongoDB\n",
   "id": "494e042cc0c52058"
  },
  {
   "metadata": {
    "ExecuteTime": {
     "end_time": "2025-02-21T11:15:16.978703Z",
     "start_time": "2025-02-21T11:15:16.970544Z"
    }
   },
   "cell_type": "code",
   "source": "from pymongo import MongoClient",
   "id": "b9d6b561ba33a573",
   "outputs": [],
   "execution_count": 19
  },
  {
   "metadata": {
    "ExecuteTime": {
     "end_time": "2025-02-21T11:44:00.716980Z",
     "start_time": "2025-02-21T11:43:23.046721Z"
    }
   },
   "cell_type": "code",
   "source": [
    "# Configura MongoDB (modifica se necessario)\n",
    "MONGO_URL = \"mongodb://localhost:27017/\"\n",
    "DB_NAME = \"ium_database\"\n",
    "COLLECTION_NAME = \"releases_data\"\n",
    "\n",
    "# Connessione a MongoDB\n",
    "client = MongoClient(MONGO_URL)\n",
    "db = client[DB_NAME]\n",
    "collection = db[COLLECTION_NAME]\n",
    "\n",
    "# Carica il CSV con Pandas\n",
    "df = pd.read_csv(cleaned_csv_path)\n",
    "\n",
    "# Converte il DataFrame in JSON-like per MongoDB\n",
    "data = df.to_dict(orient=\"records\")\n",
    "\n",
    "# Usa insert_many() per inserire tutto in un'unica operazione (molto più veloce)\n",
    "collection.insert_many(data, ordered=False); #il ; non fa stampare l'output su jupyter"
   ],
   "id": "a1b05944160d560d",
   "outputs": [],
   "execution_count": 24
  }
 ],
 "metadata": {
  "kernelspec": {
   "display_name": "Python 3",
   "language": "python",
   "name": "python3"
  },
  "language_info": {
   "codemirror_mode": {
    "name": "ipython",
    "version": 2
   },
   "file_extension": ".py",
   "mimetype": "text/x-python",
   "name": "python",
   "nbconvert_exporter": "python",
   "pygments_lexer": "ipython2",
   "version": "2.7.6"
  }
 },
 "nbformat": 4,
 "nbformat_minor": 5
}
