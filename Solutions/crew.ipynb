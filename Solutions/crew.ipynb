{
 "cells": [
  {
   "cell_type": "code",
   "id": "initial_id",
   "metadata": {
    "collapsed": true,
    "ExecuteTime": {
     "end_time": "2025-02-22T10:13:15.279314Z",
     "start_time": "2025-02-22T10:13:14.741214Z"
    }
   },
   "source": [
    "import pandas as pd\n",
    "import os\n",
    "from unidecode import unidecode"
   ],
   "outputs": [],
   "execution_count": 1
  },
  {
   "metadata": {
    "ExecuteTime": {
     "end_time": "2025-02-22T10:13:18.928252Z",
     "start_time": "2025-02-22T10:13:15.280826Z"
    }
   },
   "cell_type": "code",
   "source": [
    "# Ottiene la directory di lavoro corrente\n",
    "script_dir = os.getcwd()\n",
    "\n",
    "# Costruisce il percorso relativo al file CSV\n",
    "file_path = os.path.join(script_dir, \"Data\", \"main_data\", \"crew.csv\")\n",
    "\n",
    "# Costruisce il percorso relativo al file CSV pulito\n",
    "clean_path = os.path.join(script_dir, \"Data\", \"clean_data\")\n",
    "\n",
    "# Crea la cartella clean_data se non esite\n",
    "if not os.path.exists(clean_path):\n",
    "    os.makedirs(clean_path)\n",
    "\n",
    "# Carica il CSV in un DataFrame\n",
    "df = pd.read_csv(file_path)"
   ],
   "id": "3c4c39c93eda160b",
   "outputs": [],
   "execution_count": 2
  },
  {
   "metadata": {
    "ExecuteTime": {
     "end_time": "2025-02-22T10:13:24.052697Z",
     "start_time": "2025-02-22T10:13:19.027836Z"
    }
   },
   "cell_type": "code",
   "source": [
    "# Funzione per tradurre il nome in caratteri latini \n",
    "def transliterate_name(name):\n",
    "    if isinstance(name, str):  # Controlla che sia una stringa\n",
    "        return unidecode(name).strip()  # Traduci e rimuovi spazi extra\n",
    "    return name  # Se non è stringa, lascialo così\n",
    "\n",
    "# Applica la funzione alla colonna dei nomi e dei ruoli\n",
    "df['name'] = df['name'].apply(transliterate_name)"
   ],
   "id": "49d773cb8eff704c",
   "outputs": [],
   "execution_count": 3
  },
  {
   "metadata": {
    "ExecuteTime": {
     "end_time": "2025-02-22T10:13:30.263117Z",
     "start_time": "2025-02-22T10:13:24.060090Z"
    }
   },
   "cell_type": "code",
   "source": [
    "# Salva il file pulito\n",
    "cleaned_csv_path = os.path.join(clean_path, \"crew_cleaned.csv\")\n",
    "df.to_csv(cleaned_csv_path, index=False, encoding=\"utf-8\")"
   ],
   "id": "bafc409af3406bcc",
   "outputs": [],
   "execution_count": 4
  },
  {
   "metadata": {},
   "cell_type": "markdown",
   "source": "Caricamento file csv pulito nel database con PostgreSQL\n",
   "id": "1ff616c060727154"
  },
  {
   "metadata": {
    "ExecuteTime": {
     "end_time": "2025-02-22T10:13:30.451730Z",
     "start_time": "2025-02-22T10:13:30.271330Z"
    }
   },
   "cell_type": "code",
   "source": [
    "import psycopg2\n",
    "from sqlalchemy import create_engine,text"
   ],
   "id": "5db00e847772f56b",
   "outputs": [],
   "execution_count": 5
  },
  {
   "metadata": {
    "ExecuteTime": {
     "end_time": "2025-02-22T10:14:30.723947Z",
     "start_time": "2025-02-22T10:14:30.638645Z"
    }
   },
   "cell_type": "code",
   "source": [
    "#  Parametri di connessione PostgreSQL\n",
    "DB_NAME = \"ium_database\"  \n",
    "DB_USER = \"postgres\"       \n",
    "DB_PASSWORD = \"password\"   \n",
    "DB_HOST = \"localhost\"      \n",
    "DB_PORT = \"5432\"    \n",
    "\n",
    "conn = psycopg2.connect(dbname=\"postgres\", user=DB_USER, password=DB_PASSWORD, host=DB_HOST, port=DB_PORT) # Crea una connessione al database usando psycopg2.connect\n",
    "conn.autocommit = True # Conferma automaticamente ogni operazione evitando la conferma manuale dopo ogni query\n",
    "cur = conn.cursor() # Crea un oggetto cur che permette di eseguire query SQL sul database\n",
    "cur.execute(f\"CREATE DATABASE {DB_NAME};\") # Esegue il comando per creare il database con il nome specificato"
   ],
   "id": "fa28b7bd7b5f2ba1",
   "outputs": [
    {
     "ename": "DuplicateDatabase",
     "evalue": "ERRORE:  il database \"ium_database\" esiste già\n",
     "output_type": "error",
     "traceback": [
      "\u001B[1;31m---------------------------------------------------------------------------\u001B[0m",
      "\u001B[1;31mDuplicateDatabase\u001B[0m                         Traceback (most recent call last)",
      "Cell \u001B[1;32mIn[11], line 11\u001B[0m\n\u001B[0;32m      9\u001B[0m conn\u001B[38;5;241m.\u001B[39mautocommit \u001B[38;5;241m=\u001B[39m \u001B[38;5;28;01mTrue\u001B[39;00m \u001B[38;5;66;03m# Conferma automaticamente ogni operazione evitando la conferma manuale dopo ogni query\u001B[39;00m\n\u001B[0;32m     10\u001B[0m cur \u001B[38;5;241m=\u001B[39m conn\u001B[38;5;241m.\u001B[39mcursor() \u001B[38;5;66;03m# Crea un oggetto cur che permette di eseguire query SQL sul database\u001B[39;00m\n\u001B[1;32m---> 11\u001B[0m cur\u001B[38;5;241m.\u001B[39mexecute(\u001B[38;5;124mf\u001B[39m\u001B[38;5;124m\"\u001B[39m\u001B[38;5;124mCREATE DATABASE \u001B[39m\u001B[38;5;132;01m{\u001B[39;00mDB_NAME\u001B[38;5;132;01m}\u001B[39;00m\u001B[38;5;124m;\u001B[39m\u001B[38;5;124m\"\u001B[39m)\n",
      "\u001B[1;31mDuplicateDatabase\u001B[0m: ERRORE:  il database \"ium_database\" esiste già\n"
     ]
    }
   ],
   "execution_count": 11
  },
  {
   "metadata": {
    "ExecuteTime": {
     "end_time": "2025-02-22T10:14:32.330888Z",
     "start_time": "2025-02-22T10:14:32.266742Z"
    }
   },
   "cell_type": "code",
   "source": [
    "# Crea un oggetto di connessione a un database PostgreSQL utilizzando SQLAlchemy\n",
    "engine = create_engine(f\"postgresql://{DB_USER}:{DB_PASSWORD}@{DB_HOST}:{DB_PORT}/{DB_NAME}\")"
   ],
   "id": "e105050fddb1bf52",
   "outputs": [],
   "execution_count": 12
  },
  {
   "metadata": {
    "ExecuteTime": {
     "end_time": "2025-02-22T10:14:34.305291Z",
     "start_time": "2025-02-22T10:14:34.131763Z"
    }
   },
   "cell_type": "code",
   "source": [
    "# Query SQL per creare la tabella\n",
    "create_table_query = text(\"\"\"\n",
    "    CREATE TABLE IF NOT EXISTS crew_data (\n",
    "        id INT,\n",
    "        role TEXT,\n",
    "        name TEXT\n",
    "    );\n",
    "\"\"\")\n",
    "\n",
    "# Eseguire la query\n",
    "with engine.connect() as connection: # Apre una connessione al database usando SQLAlchemy\n",
    "    connection.execute(create_table_query) # Esegue il comando per la creazione della \n",
    "    connection.commit() # Salva le modifiche"
   ],
   "id": "125b2cfccd64adf8",
   "outputs": [],
   "execution_count": 13
  },
  {
   "metadata": {
    "ExecuteTime": {
     "end_time": "2025-02-22T10:16:26.455009Z",
     "start_time": "2025-02-22T10:14:35.877869Z"
    }
   },
   "cell_type": "code",
   "source": [
    "# Legge il CSV pulito\n",
    "df = pd.read_csv(cleaned_csv_path)\n",
    "\n",
    "# Carica i dati nella tabella PostgreSQL\n",
    "df.to_sql(\"crew_data\", engine, if_exists=\"replace\", index=False) # Esporta il dataframe nel database, sovrascrive e aggiunge i nuovi dati alla tabella esistente"
   ],
   "id": "4052e4f18244d790",
   "outputs": [
    {
     "data": {
      "text/plain": [
       "183"
      ]
     },
     "execution_count": 14,
     "metadata": {},
     "output_type": "execute_result"
    }
   ],
   "execution_count": 14
  }
 ],
 "metadata": {
  "kernelspec": {
   "display_name": "Python 3",
   "language": "python",
   "name": "python3"
  },
  "language_info": {
   "codemirror_mode": {
    "name": "ipython",
    "version": 2
   },
   "file_extension": ".py",
   "mimetype": "text/x-python",
   "name": "python",
   "nbconvert_exporter": "python",
   "pygments_lexer": "ipython2",
   "version": "2.7.6"
  }
 },
 "nbformat": 4,
 "nbformat_minor": 5
}
