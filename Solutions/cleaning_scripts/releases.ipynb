{
 "cells": [
  {
   "metadata": {},
   "cell_type": "markdown",
   "source": "# Pulizia \"releases.csv\"",
   "id": "79f2f965a57eb961"
  },
  {
   "cell_type": "code",
   "id": "initial_id",
   "metadata": {
    "collapsed": true,
    "ExecuteTime": {
     "end_time": "2025-03-07T14:10:27.617056Z",
     "start_time": "2025-03-07T14:10:27.093727Z"
    }
   },
   "source": [
    "import pandas as pd\n",
    "import os"
   ],
   "outputs": [],
   "execution_count": 1
  },
  {
   "metadata": {
    "ExecuteTime": {
     "end_time": "2025-03-07T14:10:28.449580Z",
     "start_time": "2025-03-07T14:10:27.623071Z"
    }
   },
   "cell_type": "code",
   "source": [
    "# Risali alla cartella \"Solutions\"\n",
    "script_dir = os.getcwd()\n",
    "solutions_dir = os.path.abspath(os.path.join(script_dir, \"..\"))\n",
    "\n",
    "# Imposta \"Data\" come directory di lavoro\n",
    "data_dir = os.path.join(solutions_dir, \"Data\")\n",
    "os.chdir(data_dir)  # Cambia la directory di lavoro\n",
    "\n",
    "# Ora puoi riferirti direttamente ai file dentro \"Data\"\n",
    "file_path = os.path.join(\"main_data\", \"releases.csv\")\n",
    "\n",
    "# Costruisce il percorso relativo al file CSV pulito\n",
    "clean_path = os.path.join(data_dir, \"clean_data\")\n",
    "\n",
    "# Controlla che il file esista prima di caricarlo\n",
    "if not os.path.exists(file_path):\n",
    "    raise FileNotFoundError(f\"Il file non esiste: {file_path}\")\n",
    "\n",
    "# Carica il CSV in un DataFrame\n",
    "df = pd.read_csv(file_path)"
   ],
   "id": "e56e8411a0310443",
   "outputs": [],
   "execution_count": 2
  },
  {
   "metadata": {
    "ExecuteTime": {
     "end_time": "2025-03-07T14:10:28.825488Z",
     "start_time": "2025-03-07T14:10:28.560504Z"
    }
   },
   "cell_type": "code",
   "source": [
    "# Sostituisce i valori nulli con \"Unknown\"\n",
    "df['country'] = df['country'].fillna(\"Unknown\")\n",
    "df['date'] = df['date'].fillna(\"Unknown\")\n",
    "df['type'] = df['type'].fillna(\"Unknown\")\n",
    "df['rating'] = df['rating'].fillna(\"Unknown\")"
   ],
   "id": "6f538b469c55f05b",
   "outputs": [],
   "execution_count": 3
  },
  {
   "metadata": {
    "ExecuteTime": {
     "end_time": "2025-03-07T14:10:32.049911Z",
     "start_time": "2025-03-07T14:10:29.794247Z"
    }
   },
   "cell_type": "code",
   "source": [
    "# Salva il file pulito\n",
    "cleaned_csv_path = os.path.join(clean_path, \"releases_cleaned.csv\")\n",
    "df.to_csv(cleaned_csv_path, index=False, encoding=\"utf-8\")"
   ],
   "id": "4391dd266a785148",
   "outputs": [],
   "execution_count": 4
  },
  {
   "metadata": {},
   "cell_type": "markdown",
   "source": "# Caricamento file csv pulito nel database con MongoDB\n",
   "id": "494e042cc0c52058"
  },
  {
   "metadata": {
    "ExecuteTime": {
     "end_time": "2025-03-07T14:10:32.291523Z",
     "start_time": "2025-03-07T14:10:32.057922Z"
    }
   },
   "cell_type": "code",
   "source": "from pymongo import MongoClient",
   "id": "b9d6b561ba33a573",
   "outputs": [],
   "execution_count": 5
  },
  {
   "metadata": {
    "ExecuteTime": {
     "end_time": "2025-03-07T14:11:00.644730Z",
     "start_time": "2025-03-07T14:10:35.220559Z"
    }
   },
   "cell_type": "code",
   "source": [
    "# Configura MongoDB (modifica se necessario)\n",
    "MONGO_URL = \"mongodb://localhost:27017/\"\n",
    "DB_NAME = \"ium_database\"\n",
    "COLLECTION_NAME = \"releases_data\"\n",
    "\n",
    "# Connessione a MongoDB\n",
    "client = MongoClient(MONGO_URL)\n",
    "db = client[DB_NAME]\n",
    "collection = db[COLLECTION_NAME]\n",
    "\n",
    "# Carica il CSV con Pandas\n",
    "df = pd.read_csv(cleaned_csv_path)\n",
    "\n",
    "# Converte il DataFrame in JSON-like per MongoDB\n",
    "data = df.to_dict(orient=\"records\")\n",
    "\n",
    "# Usa insert_many() per inserire tutto in un'unica operazione (molto più veloce)\n",
    "collection.insert_many(data, ordered=False); #il ; non fa stampare l'output su jupyter"
   ],
   "id": "a1b05944160d560d",
   "outputs": [],
   "execution_count": 6
  }
 ],
 "metadata": {
  "kernelspec": {
   "display_name": "Python 3",
   "language": "python",
   "name": "python3"
  },
  "language_info": {
   "codemirror_mode": {
    "name": "ipython",
    "version": 2
   },
   "file_extension": ".py",
   "mimetype": "text/x-python",
   "name": "python",
   "nbconvert_exporter": "python",
   "pygments_lexer": "ipython2",
   "version": "2.7.6"
  }
 },
 "nbformat": 4,
 "nbformat_minor": 5
}
