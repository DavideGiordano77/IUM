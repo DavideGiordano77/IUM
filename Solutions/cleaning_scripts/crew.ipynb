{
 "cells": [
  {
   "metadata": {},
   "cell_type": "markdown",
   "source": "# Pulizia crew.csv",
   "id": "89cf2723d07737fd"
  },
  {
   "cell_type": "code",
   "id": "initial_id",
   "metadata": {
    "collapsed": true,
    "ExecuteTime": {
     "end_time": "2025-02-25T15:46:59.297666Z",
     "start_time": "2025-02-25T15:46:59.272084Z"
    }
   },
   "source": [
    "import pandas as pd\n",
    "import os\n",
    "from unidecode import unidecode"
   ],
   "outputs": [],
   "execution_count": 6
  },
  {
   "metadata": {
    "ExecuteTime": {
     "end_time": "2025-02-25T15:47:05.526157Z",
     "start_time": "2025-02-25T15:47:00.224629Z"
    }
   },
   "cell_type": "code",
   "source": [
    "# Risali alla cartella \"Solutions\"\n",
    "script_dir = os.getcwd()\n",
    "solutions_dir = os.path.abspath(os.path.join(script_dir, \"..\"))\n",
    "\n",
    "# Imposta \"Data\" come directory di lavoro\n",
    "data_dir = os.path.join(solutions_dir, \"Data\")\n",
    "os.chdir(data_dir)  # Cambia la directory di lavoro\n",
    "\n",
    "# Ora puoi riferirti direttamente ai file dentro \"Data\"\n",
    "file_path = os.path.join(\"main_data\", \"crew.csv\")\n",
    "\n",
    "# Costruisce il percorso relativo al file CSV pulito\n",
    "clean_path = os.path.join(data_dir, \"clean_data\")\n",
    "\n",
    "# Controlla che il file esista prima di caricarlo\n",
    "if not os.path.exists(file_path):\n",
    "    raise FileNotFoundError(f\"Il file non esiste: {file_path}\")\n",
    "\n",
    "# Carica il CSV in un DataFrame\n",
    "df = pd.read_csv(file_path)"
   ],
   "id": "3c4c39c93eda160b",
   "outputs": [],
   "execution_count": 7
  },
  {
   "metadata": {
    "ExecuteTime": {
     "end_time": "2025-02-25T15:47:12.353778Z",
     "start_time": "2025-02-25T15:47:06.480198Z"
    }
   },
   "cell_type": "code",
   "source": [
    "# Funzione per tradurre il nome in caratteri latini \n",
    "def transliterate_name(name):\n",
    "    if isinstance(name, str):  # Controlla che sia una stringa\n",
    "        return unidecode(name).strip()  # Traduci e rimuovi spazi extra\n",
    "    return name  # Se non è stringa, lascialo così\n",
    "\n",
    "# Applica la funzione alla colonna dei nomi e dei ruoli\n",
    "df['name'] = df['name'].apply(transliterate_name)\n",
    "\n",
    "df['role'] = df['role'].fillna(\"Unknown\")\n",
    "df['name'] = df['name'].fillna(\"Unknown\")"
   ],
   "id": "49d773cb8eff704c",
   "outputs": [],
   "execution_count": 8
  },
  {
   "metadata": {
    "ExecuteTime": {
     "end_time": "2025-02-25T15:47:19.638961Z",
     "start_time": "2025-02-25T15:47:13.262106Z"
    }
   },
   "cell_type": "code",
   "source": [
    "# Salva il file pulito\n",
    "cleaned_csv_path = os.path.join(clean_path, \"crew_cleaned.csv\")\n",
    "df.to_csv(cleaned_csv_path, index=False, encoding=\"utf-8\")"
   ],
   "id": "bafc409af3406bcc",
   "outputs": [],
   "execution_count": 9
  },
  {
   "metadata": {},
   "cell_type": "markdown",
   "source": "# Caricamento file csv pulito nel database con PostgreSQL\n",
   "id": "1ff616c060727154"
  },
  {
   "metadata": {
    "ExecuteTime": {
     "end_time": "2025-02-23T10:53:17.026673Z",
     "start_time": "2025-02-23T10:53:16.712936Z"
    }
   },
   "cell_type": "code",
   "source": [
    "import psycopg2\n",
    "from sqlalchemy import create_engine,text"
   ],
   "id": "5db00e847772f56b",
   "outputs": [],
   "execution_count": 1
  },
  {
   "metadata": {
    "ExecuteTime": {
     "end_time": "2025-02-23T10:53:29.176270Z",
     "start_time": "2025-02-23T10:53:29.112875Z"
    }
   },
   "cell_type": "code",
   "source": [
    "#  Parametri di connessione PostgreSQL\n",
    "DB_NAME = \"ium_database\"\n",
    "DB_USER = \"postgres\"\n",
    "DB_PASSWORD = \"password\"\n",
    "DB_HOST = \"localhost\"\n",
    "DB_PORT = \"5432\"\n",
    "\n",
    "try:\n",
    "    conn = psycopg2.connect(dbname=\"postgres\", user=DB_USER, password=DB_PASSWORD, host=DB_HOST, port=DB_PORT) # Crea una connessione al database usando psycopg2.connect\n",
    "    conn.autocommit = True # Conferma automaticamente ogni operazione evitando la conferma manuale dopo ogni query\n",
    "    cur = conn.cursor() # Crea un oggetto cur che permette di eseguire query SQL sul database\n",
    "\n",
    "    cur.execute(f\"CREATE DATABASE {DB_NAME};\")# Esegue il comando per creare il database con il nome specificato\n",
    "    print(f\"Database '{DB_NAME}' creato con successo.\")\n",
    "    \n",
    "except psycopg2.errors.DuplicateDatabase:\n",
    "    print(f\"Il database '{DB_NAME}' esiste già.\")"
   ],
   "id": "fa28b7bd7b5f2ba1",
   "outputs": [
    {
     "name": "stdout",
     "output_type": "stream",
     "text": [
      "Il database 'ium_database' esiste già.\n"
     ]
    }
   ],
   "execution_count": 3
  },
  {
   "metadata": {
    "ExecuteTime": {
     "end_time": "2025-02-22T10:14:32.330888Z",
     "start_time": "2025-02-22T10:14:32.266742Z"
    }
   },
   "cell_type": "code",
   "source": [
    "# Crea un oggetto di connessione a un database PostgreSQL utilizzando SQLAlchemy\n",
    "engine = create_engine(f\"postgresql://{DB_USER}:{DB_PASSWORD}@{DB_HOST}:{DB_PORT}/{DB_NAME}\")"
   ],
   "id": "e105050fddb1bf52",
   "outputs": [],
   "execution_count": 12
  },
  {
   "metadata": {
    "ExecuteTime": {
     "end_time": "2025-02-22T10:14:34.305291Z",
     "start_time": "2025-02-22T10:14:34.131763Z"
    }
   },
   "cell_type": "code",
   "source": [
    "# Query SQL per creare la tabella\n",
    "create_table_query = text(\"\"\"\n",
    "    CREATE TABLE IF NOT EXISTS crew_data (\n",
    "        id INT,\n",
    "        role TEXT,\n",
    "        name TEXT\n",
    "    );\n",
    "\"\"\")\n",
    "\n",
    "# Eseguire la query\n",
    "with engine.connect() as connection: # Apre una connessione al database usando SQLAlchemy\n",
    "    connection.execute(create_table_query) # Esegue il comando per la creazione della \n",
    "    connection.commit() # Salva le modifiche"
   ],
   "id": "125b2cfccd64adf8",
   "outputs": [],
   "execution_count": 13
  },
  {
   "metadata": {
    "ExecuteTime": {
     "end_time": "2025-02-22T10:16:26.455009Z",
     "start_time": "2025-02-22T10:14:35.877869Z"
    }
   },
   "cell_type": "code",
   "source": [
    "# Legge il CSV pulito\n",
    "df = pd.read_csv(cleaned_csv_path)\n",
    "\n",
    "# Carica i dati nella tabella PostgreSQL\n",
    "df.to_sql(\"crew_data\", engine, if_exists=\"replace\", index=False) # Esporta il dataframe nel database, sovrascrive e aggiunge i nuovi dati alla tabella esistente"
   ],
   "id": "4052e4f18244d790",
   "outputs": [
    {
     "data": {
      "text/plain": [
       "183"
      ]
     },
     "execution_count": 14,
     "metadata": {},
     "output_type": "execute_result"
    }
   ],
   "execution_count": 14
  }
 ],
 "metadata": {
  "kernelspec": {
   "display_name": "Python 3",
   "language": "python",
   "name": "python3"
  },
  "language_info": {
   "codemirror_mode": {
    "name": "ipython",
    "version": 2
   },
   "file_extension": ".py",
   "mimetype": "text/x-python",
   "name": "python",
   "nbconvert_exporter": "python",
   "pygments_lexer": "ipython2",
   "version": "2.7.6"
  }
 },
 "nbformat": 4,
 "nbformat_minor": 5
}
