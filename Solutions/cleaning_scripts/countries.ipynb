{
 "cells": [
  {
   "metadata": {},
   "cell_type": "markdown",
   "source": "# Pulizia \"countries.csv\"",
   "id": "cff46a6cdd35643e"
  },
  {
   "cell_type": "code",
   "id": "initial_id",
   "metadata": {
    "collapsed": true,
    "ExecuteTime": {
     "end_time": "2025-03-07T14:04:33.240709Z",
     "start_time": "2025-03-07T14:04:33.237446Z"
    }
   },
   "source": [
    "import pandas as pd\n",
    "import os"
   ],
   "outputs": [],
   "execution_count": 1
  },
  {
   "metadata": {
    "ExecuteTime": {
     "end_time": "2025-03-07T14:04:33.517571Z",
     "start_time": "2025-03-07T14:04:33.345129Z"
    }
   },
   "cell_type": "code",
   "source": [
    "# Risali alla cartella \"Solutions\"\n",
    "script_dir = os.getcwd()\n",
    "solutions_dir = os.path.abspath(os.path.join(script_dir, \"..\"))\n",
    "\n",
    "# Imposta \"Data\" come directory di lavoro\n",
    "data_dir = os.path.join(solutions_dir, \"Data\")\n",
    "os.chdir(data_dir)  # Cambia la directory di lavoro\n",
    "\n",
    "# Ora puoi riferirti direttamente ai file dentro \"Data\"\n",
    "file_path = os.path.join(\"main_data\", \"countries.csv\")\n",
    "\n",
    "# Costruisce il percorso relativo al file CSV pulito\n",
    "clean_path = os.path.join(data_dir, \"clean_data\")\n",
    "\n",
    "# Controlla che il file esista prima di caricarlo\n",
    "if not os.path.exists(file_path):\n",
    "    raise FileNotFoundError(f\"Il file non esiste: {file_path}\")\n",
    "\n",
    "# Carica il CSV in un DataFrame\n",
    "df = pd.read_csv(file_path)"
   ],
   "id": "6dd79860b88b04c2",
   "outputs": [],
   "execution_count": 2
  },
  {
   "metadata": {
    "ExecuteTime": {
     "end_time": "2025-03-07T14:04:33.559869Z",
     "start_time": "2025-03-07T14:04:33.522586Z"
    }
   },
   "cell_type": "code",
   "source": "df['country'] = df['country'].fillna(\"Unknown\")",
   "id": "51817efa53d92dbe",
   "outputs": [],
   "execution_count": 3
  },
  {
   "metadata": {
    "ExecuteTime": {
     "end_time": "2025-03-07T14:04:37.925828Z",
     "start_time": "2025-03-07T14:04:37.256222Z"
    }
   },
   "cell_type": "code",
   "source": [
    "# Salva il file pulito\n",
    "cleaned_csv_path = os.path.join(clean_path, \"countries_cleaned.csv\")\n",
    "df.to_csv(cleaned_csv_path, index=False, encoding=\"utf-8\")"
   ],
   "id": "f9777189ebf3d396",
   "outputs": [],
   "execution_count": 4
  },
  {
   "metadata": {},
   "cell_type": "markdown",
   "source": "# Caricamento file pulito nel database con PostgreSQL",
   "id": "dbb01e26074e07dd"
  },
  {
   "metadata": {
    "ExecuteTime": {
     "end_time": "2025-03-07T14:04:45.203926Z",
     "start_time": "2025-03-07T14:04:44.916348Z"
    }
   },
   "cell_type": "code",
   "source": [
    "import psycopg2\n",
    "from sqlalchemy import create_engine,text"
   ],
   "id": "1d486db489a3f60a",
   "outputs": [],
   "execution_count": 5
  },
  {
   "metadata": {
    "ExecuteTime": {
     "end_time": "2025-03-07T14:04:45.965045Z",
     "start_time": "2025-03-07T14:04:45.898773Z"
    }
   },
   "cell_type": "code",
   "source": [
    "#  Parametri di connessione PostgreSQL\n",
    "DB_NAME = \"ium_database\"\n",
    "DB_USER = \"postgres\"\n",
    "DB_PASSWORD = \"password\"\n",
    "DB_HOST = \"localhost\"\n",
    "DB_PORT = \"5432\"\n",
    "\n",
    "try:\n",
    "    conn = psycopg2.connect(dbname=\"postgres\", user=DB_USER, password=DB_PASSWORD, host=DB_HOST, port=DB_PORT) # Crea una connessione al database usando psycopg2.connect\n",
    "    conn.autocommit = True # Conferma automaticamente ogni operazione evitando la conferma manuale dopo ogni query\n",
    "    cur = conn.cursor() # Crea un oggetto cur che permette di eseguire query SQL sul database\n",
    "\n",
    "    cur.execute(f\"CREATE DATABASE {DB_NAME};\")# Esegue il comando per creare il database con il nome specificato\n",
    "    print(f\"Database '{DB_NAME}' creato con successo.\")\n",
    "    \n",
    "except psycopg2.errors.DuplicateDatabase:\n",
    "    print(f\"Il database '{DB_NAME}' esiste già.\")"
   ],
   "id": "764a8647c31ddaf1",
   "outputs": [
    {
     "name": "stdout",
     "output_type": "stream",
     "text": [
      "Il database 'ium_database' esiste già.\n"
     ]
    }
   ],
   "execution_count": 6
  },
  {
   "metadata": {
    "ExecuteTime": {
     "end_time": "2025-03-07T14:04:50.113788Z",
     "start_time": "2025-03-07T14:04:50.062458Z"
    }
   },
   "cell_type": "code",
   "source": [
    "# Crea un oggetto di connessione a un database PostgreSQL utilizzando SQLAlchemy\n",
    "engine = create_engine(f\"postgresql://{DB_USER}:{DB_PASSWORD}@{DB_HOST}:{DB_PORT}/{DB_NAME}\")"
   ],
   "id": "182d93d70832b517",
   "outputs": [],
   "execution_count": 7
  },
  {
   "metadata": {
    "ExecuteTime": {
     "end_time": "2025-03-07T14:04:51.286648Z",
     "start_time": "2025-03-07T14:04:51.220135Z"
    }
   },
   "cell_type": "code",
   "source": [
    "# Query SQL per creare la tabella\n",
    "create_table_query = text(\"\"\"\n",
    "    CREATE TABLE IF NOT EXISTS countries_data (\n",
    "        id INT,\n",
    "        country TEXT\n",
    "    );\n",
    "\"\"\")\n",
    "\n",
    "# Eseguire la query\n",
    "with engine.connect() as connection: # Apre una connessione al database usando SQLAlchemy\n",
    "    connection.execute(create_table_query) # Esegue il comando per la creazione della \n",
    "    connection.commit() # Salva le modifiche"
   ],
   "id": "eca7812caf642355",
   "outputs": [],
   "execution_count": 8
  },
  {
   "metadata": {
    "ExecuteTime": {
     "end_time": "2025-03-07T14:05:05.181222Z",
     "start_time": "2025-03-07T14:04:53.009208Z"
    }
   },
   "cell_type": "code",
   "source": [
    "# Legge il CSV pulito\n",
    "df = pd.read_csv(cleaned_csv_path)\n",
    "\n",
    "# Carica i dati nella tabella PostgreSQL\n",
    "df.to_sql(\"countries_data\", engine, if_exists=\"replace\", index=False) # Esporta il dataframe nel database, sovrascrive e aggiunge i nuovi dati alla tabella esistente"
   ],
   "id": "881ccd9e4bc4eb40",
   "outputs": [
    {
     "data": {
      "text/plain": [
       "476"
      ]
     },
     "execution_count": 9,
     "metadata": {},
     "output_type": "execute_result"
    }
   ],
   "execution_count": 9
  }
 ],
 "metadata": {
  "kernelspec": {
   "display_name": "Python 3",
   "language": "python",
   "name": "python3"
  },
  "language_info": {
   "codemirror_mode": {
    "name": "ipython",
    "version": 2
   },
   "file_extension": ".py",
   "mimetype": "text/x-python",
   "name": "python",
   "nbconvert_exporter": "python",
   "pygments_lexer": "ipython2",
   "version": "2.7.6"
  }
 },
 "nbformat": 4,
 "nbformat_minor": 5
}
