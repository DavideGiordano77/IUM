{
 "cells": [
  {
   "metadata": {},
   "cell_type": "markdown",
   "source": "# Pulizia \"rotten_tomatoes_reviews.csv\"",
   "id": "a270754fa31d4b96"
  },
  {
   "cell_type": "code",
   "id": "initial_id",
   "metadata": {
    "collapsed": true,
    "ExecuteTime": {
     "end_time": "2025-03-07T14:12:56.540531Z",
     "start_time": "2025-03-07T14:12:56.009896Z"
    }
   },
   "source": [
    "import pandas as pd\n",
    "import os"
   ],
   "outputs": [],
   "execution_count": 1
  },
  {
   "metadata": {
    "ExecuteTime": {
     "end_time": "2025-03-07T14:13:09.357316Z",
     "start_time": "2025-03-07T14:13:06.194777Z"
    }
   },
   "cell_type": "code",
   "source": [
    "# Risali alla cartella \"Solutions\"\n",
    "script_dir = os.getcwd()\n",
    "solutions_dir = os.path.abspath(os.path.join(script_dir, \"..\"))\n",
    "\n",
    "# Imposta \"Data\" come directory di lavoro\n",
    "data_dir = os.path.join(solutions_dir, \"Data\")\n",
    "os.chdir(data_dir)  # Cambia la directory di lavoro\n",
    "\n",
    "# Ora puoi riferirti direttamente ai file dentro \"Data\"\n",
    "file_path = os.path.join(\"additional_data\", \"rotten_tomatoes_reviews.csv\")\n",
    "\n",
    "# Costruisce il percorso relativo al file CSV pulito\n",
    "clean_path = os.path.join(data_dir, \"clean_data\")\n",
    "\n",
    "# Controlla che il file esista prima di caricarlo\n",
    "if not os.path.exists(file_path):\n",
    "    raise FileNotFoundError(f\"Il file non esiste: {file_path}\")\n",
    "\n",
    "# Carica il CSV in un DataFrame\n",
    "df = pd.read_csv(file_path)"
   ],
   "id": "ca0d32cce0e6d72",
   "outputs": [],
   "execution_count": 5
  },
  {
   "metadata": {
    "ExecuteTime": {
     "end_time": "2025-03-07T14:13:12.370106Z",
     "start_time": "2025-03-07T14:13:12.128460Z"
    }
   },
   "cell_type": "code",
   "source": [
    "# Rimuove le righe in cui 'review_score', 'publisher_name' e 'critic_name' sono null\n",
    "df = df.dropna(subset=[\"review_score\", \"critic_name\", \"publisher_name\"])"
   ],
   "id": "5f91bf24960dcfb",
   "outputs": [],
   "execution_count": 6
  },
  {
   "metadata": {
    "ExecuteTime": {
     "end_time": "2025-03-07T14:13:14.677095Z",
     "start_time": "2025-03-07T14:13:13.074339Z"
    }
   },
   "cell_type": "code",
   "source": [
    "# Funzione per convertire i punteggi\n",
    "def convert_score(score):\n",
    "    score = str(score).strip()  # Converti in stringa e rimuovi spazi\n",
    "    if '/' in score:\n",
    "        try:\n",
    "            num, denom = map(float, score.split('/'))\n",
    "            if denom == 0:\n",
    "                return None\n",
    "            score_10 = (num / denom) * 10\n",
    "            return round(score_10, 1)\n",
    "        except ValueError:\n",
    "            return None\n",
    "\n",
    "    elif score.replace('.', '', 1).isdigit():\n",
    "        return round(float(score), 1)\n",
    "\n",
    "    letter_grades = {\n",
    "        \"A+\": 10, \"A\": 9.5, \"A-\": 9, \"B+\": 8, \"B\": 7.5, \"B-\": 7,\n",
    "        \"C+\": 6, \"C\": 5.5, \"C-\": 5, \"D+\": 4, \"D\": 3.5, \"D-\": 3,\n",
    "        \"F\": 2\n",
    "    }\n",
    "\n",
    "    return round(letter_grades.get(score, None), 1) if score in letter_grades else None\n",
    "\n",
    "# Applica la conversione ai dati\n",
    "df[\"review_score\"] = df[\"review_score\"].apply(convert_score)"
   ],
   "id": "72512b74c2e8792c",
   "outputs": [],
   "execution_count": 7
  },
  {
   "metadata": {
    "ExecuteTime": {
     "end_time": "2025-03-07T14:13:15.597215Z",
     "start_time": "2025-03-07T14:13:15.379133Z"
    }
   },
   "cell_type": "code",
   "source": [
    "df['review_date'] = pd.to_datetime(df['review_date'])\n",
    "\n",
    "# Filtraggio delle righe con date a partire dal 1998\n",
    "df = df[df['review_date'] >= '1998-01-01']"
   ],
   "id": "e00ad3a3f50085d3",
   "outputs": [],
   "execution_count": 8
  },
  {
   "metadata": {
    "ExecuteTime": {
     "end_time": "2025-03-07T14:13:21.824725Z",
     "start_time": "2025-03-07T14:13:16.816639Z"
    }
   },
   "cell_type": "code",
   "source": [
    "# Salva il file pulito\n",
    "cleaned_csv_path = os.path.join(clean_path, \"rotten_tomatoes_reviews_cleaned.csv\")\n",
    "df.to_csv(cleaned_csv_path, index=False, encoding=\"utf-8\")"
   ],
   "id": "911567350b1b62d7",
   "outputs": [],
   "execution_count": 9
  },
  {
   "metadata": {},
   "cell_type": "markdown",
   "source": "# Caricamento file pulito nel database con PostgreSQL",
   "id": "e70c7f5cb56eb733"
  },
  {
   "metadata": {
    "ExecuteTime": {
     "end_time": "2025-03-07T14:13:21.953931Z",
     "start_time": "2025-03-07T14:13:21.830743Z"
    }
   },
   "cell_type": "code",
   "source": "from pymongo import MongoClient",
   "id": "d48fe0848ef0dc88",
   "outputs": [],
   "execution_count": 10
  },
  {
   "metadata": {
    "ExecuteTime": {
     "end_time": "2025-03-07T14:13:46.281509Z",
     "start_time": "2025-03-07T14:13:22.223681Z"
    }
   },
   "cell_type": "code",
   "source": [
    "# Configura MongoDB (modifica se necessario)\n",
    "MONGO_URL = \"mongodb://localhost:27017/\"\n",
    "DB_NAME = \"ium_database\"\n",
    "COLLECTION_NAME = \"rotten_tomatoes_reviews_data\"\n",
    "\n",
    "# Connessione a MongoDB\n",
    "client = MongoClient(MONGO_URL)\n",
    "db = client[DB_NAME]\n",
    "collection = db[COLLECTION_NAME]\n",
    "\n",
    "# Carica il CSV con Pandas\n",
    "df = pd.read_csv(cleaned_csv_path)\n",
    "\n",
    "# Converte il DataFrame in JSON-like per MongoDB\n",
    "data = df.to_dict(orient=\"records\")\n",
    "\n",
    "# Usa insert_many() per inserire tutto in un'unica operazione (molto più veloce)\n",
    "collection.insert_many(data, ordered=False); #il ; non fa stampare l'output su jupyter"
   ],
   "id": "71ae3a8654c344fb",
   "outputs": [],
   "execution_count": 11
  }
 ],
 "metadata": {
  "kernelspec": {
   "display_name": "Python 3",
   "language": "python",
   "name": "python3"
  },
  "language_info": {
   "codemirror_mode": {
    "name": "ipython",
    "version": 2
   },
   "file_extension": ".py",
   "mimetype": "text/x-python",
   "name": "python",
   "nbconvert_exporter": "python",
   "pygments_lexer": "ipython2",
   "version": "2.7.6"
  }
 },
 "nbformat": 4,
 "nbformat_minor": 5
}
