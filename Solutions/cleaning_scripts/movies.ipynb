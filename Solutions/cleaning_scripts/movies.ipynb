{
 "cells": [
  {
   "metadata": {},
   "cell_type": "markdown",
   "source": "# Pulizia dati del file \"Movies.csv\"",
   "id": "a977a3342089f1f3"
  },
  {
   "cell_type": "code",
   "id": "initial_id",
   "metadata": {
    "collapsed": true,
    "ExecuteTime": {
     "end_time": "2025-02-24T15:49:20.558206Z",
     "start_time": "2025-02-24T15:49:20.552936Z"
    }
   },
   "source": [
    "import pandas as pd\n",
    "import os"
   ],
   "outputs": [],
   "execution_count": 5
  },
  {
   "metadata": {
    "ExecuteTime": {
     "end_time": "2025-02-24T15:58:10.271828Z",
     "start_time": "2025-02-24T15:58:05.279213Z"
    }
   },
   "cell_type": "code",
   "source": [
    "# Risali alla cartella \"Solutions\"\n",
    "script_dir = os.getcwd()\n",
    "solutions_dir = os.path.abspath(os.path.join(script_dir, \"..\"))\n",
    "\n",
    "# Imposta \"Data\" come directory di lavoro\n",
    "data_dir = os.path.join(solutions_dir, \"Data\")\n",
    "os.chdir(data_dir)  # Cambia la directory di lavoro\n",
    "\n",
    "# Ora puoi riferirti direttamente ai file dentro \"Data\"\n",
    "file_path = os.path.join(\"main_data\", \"movies.csv\")\n",
    "\n",
    "# Costruisce il percorso relativo al file CSV pulito\n",
    "clean_path = os.path.join(data_dir, \"clean_data\")\n",
    "\n",
    "# Controlla che il file esista prima di caricarlo\n",
    "if not os.path.exists(file_path):\n",
    "    raise FileNotFoundError(f\"Il file non esiste: {file_path}\")\n",
    "\n",
    "# Carica il CSV in un DataFrame\n",
    "df = pd.read_csv(file_path)"
   ],
   "id": "34c12213080dc42f",
   "outputs": [],
   "execution_count": 9
  },
  {
   "metadata": {
    "ExecuteTime": {
     "end_time": "2025-02-25T20:32:51.323198Z",
     "start_time": "2025-02-25T20:32:47.945762Z"
    }
   },
   "cell_type": "code",
   "source": [
    "# Rimuove duplicati\n",
    "df.drop_duplicates(inplace=True)\n",
    "\n",
    "# Converti \"data\" e \"anno\" in numerico (float se ci sono NaN)\n",
    "df[\"minute\"] = pd.to_numeric(df[\"minute\"], errors=\"coerce\")\n",
    "df[\"date\"] = pd.to_numeric(df[\"date\"], errors=\"coerce\")\n",
    "\n",
    "# Dopo la pulizia, rimuovi eventuali NaN e riconverti in int\n",
    "df.dropna(subset=[\"minute\", \"date\"], inplace=True)  # Elimina righe con NaN in questi campi\n",
    "df[\"minute\"] = df[\"minute\"].astype(int)\n",
    "df[\"date\"] = df[\"date\"].astype(int)\n",
    "\n",
    "df['name'] = df['name'].str.replace('\\xa0', ' ', regex=False)\n",
    "df['tagline'] = df['tagline'].str.replace('\\xa0', ' ', regex=False)\n",
    "df['description'] = df['description'].str.replace('\\xa0', ' ', regex=False)\n"
   ],
   "id": "95bdd138c341a0c0",
   "outputs": [],
   "execution_count": 9
  },
  {
   "metadata": {
    "ExecuteTime": {
     "end_time": "2025-02-25T20:33:02.309482Z",
     "start_time": "2025-02-25T20:32:53.991394Z"
    }
   },
   "cell_type": "code",
   "source": [
    "# Salva il file pulito\n",
    "cleaned_csv_path = os.path.join(clean_path, \"movies_cleaned.csv\")\n",
    "df.to_csv(cleaned_csv_path, index=False, encoding=\"utf-8\")"
   ],
   "id": "ec4ba181c5e9afbd",
   "outputs": [],
   "execution_count": 10
  },
  {
   "metadata": {},
   "cell_type": "markdown",
   "source": "# Caricamento dati nel DB",
   "id": "4bcd720e41a90817"
  },
  {
   "metadata": {
    "ExecuteTime": {
     "end_time": "2025-02-23T10:33:46.452595Z",
     "start_time": "2025-02-23T10:33:46.135186Z"
    }
   },
   "cell_type": "code",
   "source": [
    "import psycopg2\n",
    "from sqlalchemy import create_engine, text"
   ],
   "id": "fa060a97b01f2361",
   "outputs": [],
   "execution_count": 5
  },
  {
   "metadata": {
    "ExecuteTime": {
     "end_time": "2025-02-23T10:33:53.597745Z",
     "start_time": "2025-02-23T10:33:52.396773Z"
    }
   },
   "cell_type": "code",
   "source": [
    "#  Parametri di connessione PostgreSQL\n",
    "DB_NAME = \"ium_database\"  \n",
    "DB_USER = \"postgres\"       \n",
    "DB_PASSWORD = \"password\"   \n",
    "DB_HOST = \"localhost\"      \n",
    "DB_PORT = \"5432\"    \n",
    "\n",
    "conn = psycopg2.connect(dbname=\"postgres\", user=DB_USER, password=DB_PASSWORD, host=DB_HOST, port=DB_PORT) # Crea una connessione al database usando psycopg2.connect\n",
    "conn.autocommit = True # Conferma automaticamente ogni operazione evitando la conferma manuale dopo ogni query\n",
    "cur = conn.cursor() # Crea un oggetto cur che permette di eseguire query SQL sul database\n",
    "cur.execute(f\"CREATE DATABASE {DB_NAME};\") # Esegue il comando per creare il database con il nome specificato"
   ],
   "id": "86575eae20b29f87",
   "outputs": [
    {
     "ename": "DuplicateDatabase",
     "evalue": "ERRORE:  il database \"ium_database\" esiste già\n",
     "output_type": "error",
     "traceback": [
      "\u001B[1;31m---------------------------------------------------------------------------\u001B[0m",
      "\u001B[1;31mDuplicateDatabase\u001B[0m                         Traceback (most recent call last)",
      "Cell \u001B[1;32mIn[6], line 11\u001B[0m\n\u001B[0;32m      9\u001B[0m conn\u001B[38;5;241m.\u001B[39mautocommit \u001B[38;5;241m=\u001B[39m \u001B[38;5;28;01mTrue\u001B[39;00m \u001B[38;5;66;03m# Conferma automaticamente ogni operazione evitando la conferma manuale dopo ogni query\u001B[39;00m\n\u001B[0;32m     10\u001B[0m cur \u001B[38;5;241m=\u001B[39m conn\u001B[38;5;241m.\u001B[39mcursor() \u001B[38;5;66;03m# Crea un oggetto cur che permette di eseguire query SQL sul database\u001B[39;00m\n\u001B[1;32m---> 11\u001B[0m cur\u001B[38;5;241m.\u001B[39mexecute(\u001B[38;5;124mf\u001B[39m\u001B[38;5;124m\"\u001B[39m\u001B[38;5;124mCREATE DATABASE \u001B[39m\u001B[38;5;132;01m{\u001B[39;00mDB_NAME\u001B[38;5;132;01m}\u001B[39;00m\u001B[38;5;124m;\u001B[39m\u001B[38;5;124m\"\u001B[39m)\n",
      "\u001B[1;31mDuplicateDatabase\u001B[0m: ERRORE:  il database \"ium_database\" esiste già\n"
     ]
    }
   ],
   "execution_count": 6
  },
  {
   "metadata": {
    "ExecuteTime": {
     "end_time": "2025-02-23T10:33:55.036286Z",
     "start_time": "2025-02-23T10:33:54.954395Z"
    }
   },
   "cell_type": "code",
   "source": [
    "# Crea un oggetto di connessione a un database PostgreSQL utilizzando SQLAlchemy\n",
    "engine = create_engine(f\"postgresql://{DB_USER}:{DB_PASSWORD}@{DB_HOST}:{DB_PORT}/{DB_NAME}\")"
   ],
   "id": "1eb1b44f268846ea",
   "outputs": [],
   "execution_count": 7
  },
  {
   "metadata": {
    "ExecuteTime": {
     "end_time": "2025-02-23T10:34:02.440184Z",
     "start_time": "2025-02-23T10:34:02.347726Z"
    }
   },
   "cell_type": "code",
   "source": [
    "# Query SQL per creare la tabella\n",
    "create_table_query = text(\"\"\"\n",
    "    CREATE TABLE IF NOT EXISTS actors_data (\n",
    "        id INT,\n",
    "        name TEXT,\n",
    "        role TEXT\n",
    "    );\n",
    "\"\"\")\n",
    "\n",
    "# Eseguire la query\n",
    "with engine.connect() as connection: # Apre una connessione al database usando SQLAlchemy\n",
    "    connection.execute(create_table_query) # Esegue il comando per la creazione della \n",
    "    connection.commit() # Salva le modifiche"
   ],
   "id": "284e443779c3cb36",
   "outputs": [],
   "execution_count": 8
  },
  {
   "metadata": {
    "ExecuteTime": {
     "end_time": "2025-02-23T10:34:45.729654Z",
     "start_time": "2025-02-23T10:34:04.662854Z"
    }
   },
   "cell_type": "code",
   "source": [
    "# Legge il CSV pulito\n",
    "df = pd.read_csv(cleaned_csv_path)\n",
    "\n",
    "# Carica i dati nella tabella PostgreSQL\n",
    "df.to_sql(\"movies_data\", engine, if_exists=\"replace\", index=False) # Esporta il dataframe nel database, sovrascrive e aggiunge i nuovi dati alla tabella esistente"
   ],
   "id": "86217b942fce3c7c",
   "outputs": [
    {
     "data": {
      "text/plain": [
       "924"
      ]
     },
     "execution_count": 9,
     "metadata": {},
     "output_type": "execute_result"
    }
   ],
   "execution_count": 9
  }
 ],
 "metadata": {
  "kernelspec": {
   "display_name": "Python 3",
   "language": "python",
   "name": "python3"
  },
  "language_info": {
   "codemirror_mode": {
    "name": "ipython",
    "version": 2
   },
   "file_extension": ".py",
   "mimetype": "text/x-python",
   "name": "python",
   "nbconvert_exporter": "python",
   "pygments_lexer": "ipython2",
   "version": "2.7.6"
  }
 },
 "nbformat": 4,
 "nbformat_minor": 5
}
