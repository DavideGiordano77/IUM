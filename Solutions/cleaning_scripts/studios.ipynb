{
 "cells": [
  {
   "metadata": {},
   "cell_type": "markdown",
   "source": "# Pulizia \"studios.csv\"",
   "id": "5cac8050e79e723f"
  },
  {
   "cell_type": "code",
   "id": "initial_id",
   "metadata": {
    "collapsed": true,
    "ExecuteTime": {
     "end_time": "2025-03-07T14:12:01.458091Z",
     "start_time": "2025-03-07T14:12:00.869238Z"
    }
   },
   "source": [
    "import pandas as pd\n",
    "import os"
   ],
   "outputs": [],
   "execution_count": 1
  },
  {
   "metadata": {
    "ExecuteTime": {
     "end_time": "2025-03-07T14:12:01.840326Z",
     "start_time": "2025-03-07T14:12:01.469102Z"
    }
   },
   "cell_type": "code",
   "source": [
    "# Risali alla cartella \"Solutions\"\n",
    "script_dir = os.getcwd()\n",
    "solutions_dir = os.path.abspath(os.path.join(script_dir, \"..\"))\n",
    "\n",
    "# Imposta \"Data\" come directory di lavoro\n",
    "data_dir = os.path.join(solutions_dir, \"Data\")\n",
    "os.chdir(data_dir)  # Cambia la directory di lavoro\n",
    "\n",
    "# Ora puoi riferirti direttamente ai file dentro \"Data\"\n",
    "file_path = os.path.join(\"main_data\", \"studios.csv\")\n",
    "\n",
    "# Costruisce il percorso relativo al file CSV pulito\n",
    "clean_path = os.path.join(data_dir, \"clean_data\")\n",
    "\n",
    "# Controlla che il file esista prima di caricarlo\n",
    "if not os.path.exists(file_path):\n",
    "    raise FileNotFoundError(f\"Il file non esiste: {file_path}\")\n",
    "\n",
    "# Carica il CSV in un DataFrame\n",
    "df = pd.read_csv(file_path)"
   ],
   "id": "aa4b5dcad82f1963",
   "outputs": [],
   "execution_count": 2
  },
  {
   "metadata": {
    "ExecuteTime": {
     "end_time": "2025-03-07T14:12:34.182999Z",
     "start_time": "2025-03-07T14:12:34.114352Z"
    }
   },
   "cell_type": "code",
   "source": "df = df[df[\"studio\"] != \".\"]",
   "id": "4814da401fc90048",
   "outputs": [],
   "execution_count": 3
  },
  {
   "metadata": {
    "ExecuteTime": {
     "end_time": "2025-03-07T14:12:35.298471Z",
     "start_time": "2025-03-07T14:12:35.160538Z"
    }
   },
   "cell_type": "code",
   "source": "df = df.apply(lambda col: col.str.lstrip('/') if col.dtypes == \"object\" else col)",
   "id": "a154f6c4e718d424",
   "outputs": [],
   "execution_count": 4
  },
  {
   "metadata": {
    "ExecuteTime": {
     "end_time": "2025-03-07T14:12:36.988261Z",
     "start_time": "2025-03-07T14:12:36.078135Z"
    }
   },
   "cell_type": "code",
   "source": [
    "from unidecode import unidecode\n",
    "\n",
    "df = df.apply(lambda col: col.map(lambda x: unidecode(str(x))) if col.dtypes == \"object\" else col)"
   ],
   "id": "a1d9fa2b94ac56c3",
   "outputs": [],
   "execution_count": 5
  },
  {
   "metadata": {
    "ExecuteTime": {
     "end_time": "2025-03-07T14:12:38.966197Z",
     "start_time": "2025-03-07T14:12:38.155189Z"
    }
   },
   "cell_type": "code",
   "source": [
    "# Salva il file pulito\n",
    "cleaned_csv_path = os.path.join(clean_path, \"studios_cleaned.csv\")\n",
    "df.to_csv(cleaned_csv_path, index=False, encoding=\"utf-8\")"
   ],
   "id": "f5909334a6c5c30d",
   "outputs": [],
   "execution_count": 6
  },
  {
   "metadata": {},
   "cell_type": "markdown",
   "source": "# Caricamento file pulito nel database con PostgreSQL",
   "id": "82d389a75d1c9940"
  },
  {
   "metadata": {
    "ExecuteTime": {
     "end_time": "2025-03-07T14:12:42.312080Z",
     "start_time": "2025-03-07T14:12:42.143149Z"
    }
   },
   "cell_type": "code",
   "source": [
    "import psycopg2\n",
    "from sqlalchemy import create_engine, text"
   ],
   "id": "a23f5f234f7c8254",
   "outputs": [],
   "execution_count": 7
  },
  {
   "metadata": {
    "ExecuteTime": {
     "end_time": "2025-03-07T14:12:43.698064Z",
     "start_time": "2025-03-07T14:12:43.636823Z"
    }
   },
   "cell_type": "code",
   "source": [
    "#  Parametri di connessione PostgreSQL\n",
    "DB_NAME = \"ium_database\"\n",
    "DB_USER = \"postgres\"\n",
    "DB_PASSWORD = \"password\"\n",
    "DB_HOST = \"localhost\"\n",
    "DB_PORT = \"5432\"\n",
    "\n",
    "try:\n",
    "    conn = psycopg2.connect(dbname=\"postgres\", user=DB_USER, password=DB_PASSWORD, host=DB_HOST, port=DB_PORT) # Crea una connessione al database usando psycopg2.connect\n",
    "    conn.autocommit = True # Conferma automaticamente ogni operazione evitando la conferma manuale dopo ogni query\n",
    "    cur = conn.cursor() # Crea un oggetto cur che permette di eseguire query SQL sul database\n",
    "\n",
    "    cur.execute(f\"CREATE DATABASE {DB_NAME};\")# Esegue il comando per creare il database con il nome specificato\n",
    "    print(f\"Database '{DB_NAME}' creato con successo.\")\n",
    "    \n",
    "except psycopg2.errors.DuplicateDatabase:\n",
    "    print(f\"Il database '{DB_NAME}' esiste già.\")"
   ],
   "id": "bcfca48ca6abb390",
   "outputs": [
    {
     "name": "stdout",
     "output_type": "stream",
     "text": [
      "Il database 'ium_database' esiste già.\n"
     ]
    }
   ],
   "execution_count": 8
  },
  {
   "metadata": {
    "ExecuteTime": {
     "end_time": "2025-03-07T14:12:46.109468Z",
     "start_time": "2025-03-07T14:12:46.062029Z"
    }
   },
   "cell_type": "code",
   "source": [
    "# Crea un oggetto di connessione a un database PostgreSQL utilizzando SQLAlchemy\n",
    "engine = create_engine(f\"postgresql://{DB_USER}:{DB_PASSWORD}@{DB_HOST}:{DB_PORT}/{DB_NAME}\")"
   ],
   "id": "f3f8262c9f8b4486",
   "outputs": [],
   "execution_count": 9
  },
  {
   "metadata": {
    "ExecuteTime": {
     "end_time": "2025-03-07T14:12:48.261131Z",
     "start_time": "2025-03-07T14:12:48.196381Z"
    }
   },
   "cell_type": "code",
   "source": [
    "# Query SQL per creare la tabella\n",
    "create_table_query = text(\"\"\"\n",
    "    CREATE TABLE IF NOT EXISTS studios_data (\n",
    "        id INT,\n",
    "        studio TEXT\n",
    "    );\n",
    "\"\"\")\n",
    "\n",
    "# Eseguire la query\n",
    "with engine.connect() as connection: # Apre una connessione al database usando SQLAlchemy\n",
    "    connection.execute(create_table_query) # Esegue il comando per la creazione della \n",
    "    connection.commit() # Salva le modifiche"
   ],
   "id": "87d8801ce5853f8",
   "outputs": [],
   "execution_count": 10
  },
  {
   "metadata": {
    "ExecuteTime": {
     "end_time": "2025-03-07T14:13:01.582216Z",
     "start_time": "2025-03-07T14:12:49.670230Z"
    }
   },
   "cell_type": "code",
   "source": [
    "# Legge il CSV pulito\n",
    "df = pd.read_csv(cleaned_csv_path)\n",
    "\n",
    "# Carica i dati nella tabella PostgreSQL\n",
    "df.to_sql(\"studios_data\", engine, if_exists=\"replace\", index=False) # Esporta il dataframe nel database, sovrascrive e aggiunge i nuovi dati alla tabella esistente"
   ],
   "id": "306112d5abe68e43",
   "outputs": [
    {
     "data": {
      "text/plain": [
       "278"
      ]
     },
     "execution_count": 11,
     "metadata": {},
     "output_type": "execute_result"
    }
   ],
   "execution_count": 11
  }
 ],
 "metadata": {
  "kernelspec": {
   "display_name": "Python 3",
   "language": "python",
   "name": "python3"
  },
  "language_info": {
   "codemirror_mode": {
    "name": "ipython",
    "version": 2
   },
   "file_extension": ".py",
   "mimetype": "text/x-python",
   "name": "python",
   "nbconvert_exporter": "python",
   "pygments_lexer": "ipython2",
   "version": "2.7.6"
  }
 },
 "nbformat": 4,
 "nbformat_minor": 5
}
