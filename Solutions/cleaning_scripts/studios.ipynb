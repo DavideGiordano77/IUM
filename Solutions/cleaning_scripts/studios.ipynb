{
 "cells": [
  {
   "cell_type": "code",
   "id": "initial_id",
   "metadata": {
    "collapsed": true,
    "ExecuteTime": {
     "end_time": "2025-02-23T10:39:03.489999Z",
     "start_time": "2025-02-23T10:39:02.901990Z"
    }
   },
   "source": [
    "import pandas as pd\n",
    "import os"
   ],
   "outputs": [],
   "execution_count": 1
  },
  {
   "metadata": {
    "ExecuteTime": {
     "end_time": "2025-02-23T18:23:45.871738Z",
     "start_time": "2025-02-23T18:23:45.113889Z"
    }
   },
   "cell_type": "code",
   "source": [
    "# Ottiene la directory di lavoro corrente\n",
    "script_dir = os.getcwd()\n",
    "\n",
    "# Costruisce il percorso relativo al file CSV\n",
    "file_path = os.path.join(script_dir, \"main_data\", \"studios.csv\")\n",
    "\n",
    "# Costruisce il percorso relativo al file CSV pulito\n",
    "clean_path = os.path.join(script_dir, \"clean_data\")\n",
    "\n",
    "# Crea la cartella clean_data se non esiste\n",
    "if not os.path.exists(clean_path):\n",
    "    os.makedirs(clean_path)\n",
    "\n",
    "# Controlla che il file esista prima di caricarlo\n",
    "if not os.path.exists(file_path):\n",
    "    raise FileNotFoundError(f\"Il file non esiste: {file_path}\")\n",
    "\n",
    "# Carica il CSV in un DataFrame\n",
    "df = pd.read_csv(file_path)\n",
    "df.head()"
   ],
   "id": "aa4b5dcad82f1963",
   "outputs": [
    {
     "data": {
      "text/plain": [
       "        id                   studio\n",
       "0  1000001  LuckyChap Entertainment\n",
       "1  1000001             Heyday Films\n",
       "2  1000001           NB/GG Pictures\n",
       "3  1000001                   Mattel\n",
       "4  1000001    Warner Bros. Pictures"
      ],
      "text/html": [
       "<div>\n",
       "<style scoped>\n",
       "    .dataframe tbody tr th:only-of-type {\n",
       "        vertical-align: middle;\n",
       "    }\n",
       "\n",
       "    .dataframe tbody tr th {\n",
       "        vertical-align: top;\n",
       "    }\n",
       "\n",
       "    .dataframe thead th {\n",
       "        text-align: right;\n",
       "    }\n",
       "</style>\n",
       "<table border=\"1\" class=\"dataframe\">\n",
       "  <thead>\n",
       "    <tr style=\"text-align: right;\">\n",
       "      <th></th>\n",
       "      <th>id</th>\n",
       "      <th>studio</th>\n",
       "    </tr>\n",
       "  </thead>\n",
       "  <tbody>\n",
       "    <tr>\n",
       "      <th>0</th>\n",
       "      <td>1000001</td>\n",
       "      <td>LuckyChap Entertainment</td>\n",
       "    </tr>\n",
       "    <tr>\n",
       "      <th>1</th>\n",
       "      <td>1000001</td>\n",
       "      <td>Heyday Films</td>\n",
       "    </tr>\n",
       "    <tr>\n",
       "      <th>2</th>\n",
       "      <td>1000001</td>\n",
       "      <td>NB/GG Pictures</td>\n",
       "    </tr>\n",
       "    <tr>\n",
       "      <th>3</th>\n",
       "      <td>1000001</td>\n",
       "      <td>Mattel</td>\n",
       "    </tr>\n",
       "    <tr>\n",
       "      <th>4</th>\n",
       "      <td>1000001</td>\n",
       "      <td>Warner Bros. Pictures</td>\n",
       "    </tr>\n",
       "  </tbody>\n",
       "</table>\n",
       "</div>"
      ]
     },
     "execution_count": 2,
     "metadata": {},
     "output_type": "execute_result"
    }
   ],
   "execution_count": 2
  },
  {
   "metadata": {
    "ExecuteTime": {
     "end_time": "2025-02-23T10:39:07.538828Z",
     "start_time": "2025-02-23T10:39:07.472716Z"
    }
   },
   "cell_type": "code",
   "source": "df = df[df[\"studio\"] != \".\"]",
   "id": "4814da401fc90048",
   "outputs": [],
   "execution_count": 3
  },
  {
   "metadata": {
    "ExecuteTime": {
     "end_time": "2025-02-23T10:39:08.853306Z",
     "start_time": "2025-02-23T10:39:08.733956Z"
    }
   },
   "cell_type": "code",
   "source": "df = df.apply(lambda col: col.str.lstrip('/') if col.dtypes == \"object\" else col)",
   "id": "a154f6c4e718d424",
   "outputs": [],
   "execution_count": 4
  },
  {
   "metadata": {
    "ExecuteTime": {
     "end_time": "2025-02-23T10:39:10.978850Z",
     "start_time": "2025-02-23T10:39:09.799157Z"
    }
   },
   "cell_type": "code",
   "source": [
    "from unidecode import unidecode\n",
    "\n",
    "df = df.apply(lambda col: col.map(lambda x: unidecode(str(x))) if col.dtypes == \"object\" else col)"
   ],
   "id": "a1d9fa2b94ac56c3",
   "outputs": [],
   "execution_count": 5
  },
  {
   "metadata": {
    "ExecuteTime": {
     "end_time": "2025-02-23T10:39:12.825024Z",
     "start_time": "2025-02-23T10:39:11.941561Z"
    }
   },
   "cell_type": "code",
   "source": [
    "# Salva il file pulito\n",
    "cleaned_csv_path = os.path.join(clean_path, \"studios_cleaned.csv\")\n",
    "df.to_csv(cleaned_csv_path, index=False, encoding=\"utf-8\")"
   ],
   "id": "f5909334a6c5c30d",
   "outputs": [],
   "execution_count": 6
  },
  {
   "metadata": {},
   "cell_type": "markdown",
   "source": "# Collegamento al db",
   "id": "82d389a75d1c9940"
  },
  {
   "metadata": {
    "ExecuteTime": {
     "end_time": "2025-02-23T10:39:18.921576Z",
     "start_time": "2025-02-23T10:39:18.674263Z"
    }
   },
   "cell_type": "code",
   "source": [
    "import psycopg2\n",
    "from sqlalchemy import create_engine, text"
   ],
   "id": "a23f5f234f7c8254",
   "outputs": [],
   "execution_count": 7
  },
  {
   "metadata": {
    "ExecuteTime": {
     "end_time": "2025-02-23T10:39:22.584101Z",
     "start_time": "2025-02-23T10:39:21.611617Z"
    }
   },
   "cell_type": "code",
   "source": [
    "#  Parametri di connessione PostgreSQL\n",
    "DB_NAME = \"ium_database\"  \n",
    "DB_USER = \"postgres\"       \n",
    "DB_PASSWORD = \"password\"   \n",
    "DB_HOST = \"localhost\"      \n",
    "DB_PORT = \"5432\"    \n",
    "\n",
    "conn = psycopg2.connect(dbname=\"postgres\", user=DB_USER, password=DB_PASSWORD, host=DB_HOST, port=DB_PORT) # Crea una connessione al database usando psycopg2.connect\n",
    "conn.autocommit = True # Conferma automaticamente ogni operazione evitando la conferma manuale dopo ogni query\n",
    "cur = conn.cursor() # Crea un oggetto cur che permette di eseguire query SQL sul database\n",
    "cur.execute(f\"CREATE DATABASE {DB_NAME};\") # Esegue il comando per creare il database con il nome specificato"
   ],
   "id": "bcfca48ca6abb390",
   "outputs": [
    {
     "ename": "DuplicateDatabase",
     "evalue": "ERRORE:  il database \"ium_database\" esiste già\n",
     "output_type": "error",
     "traceback": [
      "\u001B[1;31m---------------------------------------------------------------------------\u001B[0m",
      "\u001B[1;31mDuplicateDatabase\u001B[0m                         Traceback (most recent call last)",
      "Cell \u001B[1;32mIn[8], line 11\u001B[0m\n\u001B[0;32m      9\u001B[0m conn\u001B[38;5;241m.\u001B[39mautocommit \u001B[38;5;241m=\u001B[39m \u001B[38;5;28;01mTrue\u001B[39;00m \u001B[38;5;66;03m# Conferma automaticamente ogni operazione evitando la conferma manuale dopo ogni query\u001B[39;00m\n\u001B[0;32m     10\u001B[0m cur \u001B[38;5;241m=\u001B[39m conn\u001B[38;5;241m.\u001B[39mcursor() \u001B[38;5;66;03m# Crea un oggetto cur che permette di eseguire query SQL sul database\u001B[39;00m\n\u001B[1;32m---> 11\u001B[0m cur\u001B[38;5;241m.\u001B[39mexecute(\u001B[38;5;124mf\u001B[39m\u001B[38;5;124m\"\u001B[39m\u001B[38;5;124mCREATE DATABASE \u001B[39m\u001B[38;5;132;01m{\u001B[39;00mDB_NAME\u001B[38;5;132;01m}\u001B[39;00m\u001B[38;5;124m;\u001B[39m\u001B[38;5;124m\"\u001B[39m)\n",
      "\u001B[1;31mDuplicateDatabase\u001B[0m: ERRORE:  il database \"ium_database\" esiste già\n"
     ]
    }
   ],
   "execution_count": 8
  },
  {
   "metadata": {
    "ExecuteTime": {
     "end_time": "2025-02-23T10:39:24.015450Z",
     "start_time": "2025-02-23T10:39:23.909459Z"
    }
   },
   "cell_type": "code",
   "source": [
    "# Crea un oggetto di connessione a un database PostgreSQL utilizzando SQLAlchemy\n",
    "engine = create_engine(f\"postgresql://{DB_USER}:{DB_PASSWORD}@{DB_HOST}:{DB_PORT}/{DB_NAME}\")"
   ],
   "id": "f3f8262c9f8b4486",
   "outputs": [],
   "execution_count": 9
  },
  {
   "metadata": {
    "ExecuteTime": {
     "end_time": "2025-02-23T10:39:28.259858Z",
     "start_time": "2025-02-23T10:39:28.053181Z"
    }
   },
   "cell_type": "code",
   "source": [
    "# Query SQL per creare la tabella\n",
    "create_table_query = text(\"\"\"\n",
    "    CREATE TABLE IF NOT EXISTS actors_data (\n",
    "        id INT,\n",
    "        name TEXT,\n",
    "        role TEXT\n",
    "    );\n",
    "\"\"\")\n",
    "\n",
    "# Eseguire la query\n",
    "with engine.connect() as connection: # Apre una connessione al database usando SQLAlchemy\n",
    "    connection.execute(create_table_query) # Esegue il comando per la creazione della \n",
    "    connection.commit() # Salva le modifiche"
   ],
   "id": "87d8801ce5853f8",
   "outputs": [],
   "execution_count": 10
  },
  {
   "metadata": {
    "ExecuteTime": {
     "end_time": "2025-02-23T10:40:09.706011Z",
     "start_time": "2025-02-23T10:39:58.973338Z"
    }
   },
   "cell_type": "code",
   "source": [
    "# Legge il CSV pulito\n",
    "df = pd.read_csv(cleaned_csv_path)\n",
    "\n",
    "# Carica i dati nella tabella PostgreSQL\n",
    "df.to_sql(\"studios_data\", engine, if_exists=\"replace\", index=False) # Esporta il dataframe nel database, sovrascrive e aggiunge i nuovi dati alla tabella esistente"
   ],
   "id": "306112d5abe68e43",
   "outputs": [
    {
     "data": {
      "text/plain": [
       "278"
      ]
     },
     "execution_count": 11,
     "metadata": {},
     "output_type": "execute_result"
    }
   ],
   "execution_count": 11
  }
 ],
 "metadata": {
  "kernelspec": {
   "display_name": "Python 3",
   "language": "python",
   "name": "python3"
  },
  "language_info": {
   "codemirror_mode": {
    "name": "ipython",
    "version": 2
   },
   "file_extension": ".py",
   "mimetype": "text/x-python",
   "name": "python",
   "nbconvert_exporter": "python",
   "pygments_lexer": "ipython2",
   "version": "2.7.6"
  }
 },
 "nbformat": 4,
 "nbformat_minor": 5
}
