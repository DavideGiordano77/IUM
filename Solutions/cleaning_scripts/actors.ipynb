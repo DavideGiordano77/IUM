{
 "cells": [
  {
   "metadata": {},
   "cell_type": "markdown",
   "source": [
    "# Pulizia actors.csv\n",
    "Codice per la pulizia del file actors.csv"
   ],
   "id": "fb3bc528516922b9"
  },
  {
   "metadata": {
    "ExecuteTime": {
     "end_time": "2025-02-23T16:19:01.099845Z",
     "start_time": "2025-02-23T16:19:01.094919Z"
    }
   },
   "cell_type": "code",
   "source": [
    "import pandas as pd\n",
    "import os\n",
    "import re\n",
    "from unidecode import unidecode"
   ],
   "id": "9cd3b8a5d011a920",
   "outputs": [],
   "execution_count": 2
  },
  {
   "metadata": {
    "ExecuteTime": {
     "end_time": "2025-02-23T18:20:52.602867Z",
     "start_time": "2025-02-23T18:20:43.314623Z"
    }
   },
   "cell_type": "code",
   "source": [
    "# Ottiene la directory di lavoro corrente\n",
    "script_dir = os.getcwd()\n",
    "\n",
    "# Costruisce il percorso relativo al file CSV\n",
    "file_path = os.path.join(script_dir, \"main_data\", \"actors.csv\")\n",
    "\n",
    "# Costruisce il percorso relativo al file CSV pulito\n",
    "clean_path = os.path.join(script_dir, \"clean_data\")\n",
    "\n",
    "# Crea la cartella clean_data se non esiste\n",
    "if not os.path.exists(clean_path):\n",
    "    os.makedirs(clean_path)\n",
    "\n",
    "# Controlla che il file esista prima di caricarlo\n",
    "if not os.path.exists(file_path):\n",
    "    raise FileNotFoundError(f\"Il file non esiste: {file_path}\")\n",
    "\n",
    "# Carica il CSV in un DataFrame\n",
    "df = pd.read_csv(file_path)\n",
    "df.head()"
   ],
   "id": "b72d6d05d1fb6fa5",
   "outputs": [
    {
     "data": {
      "text/plain": [
       "        id               name    role\n",
       "0  1000001      Margot Robbie  Barbie\n",
       "1  1000001       Ryan Gosling     Ken\n",
       "2  1000001    America Ferrera  Gloria\n",
       "3  1000001  Ariana Greenblatt   Sasha\n",
       "4  1000001           Issa Rae  Barbie"
      ],
      "text/html": [
       "<div>\n",
       "<style scoped>\n",
       "    .dataframe tbody tr th:only-of-type {\n",
       "        vertical-align: middle;\n",
       "    }\n",
       "\n",
       "    .dataframe tbody tr th {\n",
       "        vertical-align: top;\n",
       "    }\n",
       "\n",
       "    .dataframe thead th {\n",
       "        text-align: right;\n",
       "    }\n",
       "</style>\n",
       "<table border=\"1\" class=\"dataframe\">\n",
       "  <thead>\n",
       "    <tr style=\"text-align: right;\">\n",
       "      <th></th>\n",
       "      <th>id</th>\n",
       "      <th>name</th>\n",
       "      <th>role</th>\n",
       "    </tr>\n",
       "  </thead>\n",
       "  <tbody>\n",
       "    <tr>\n",
       "      <th>0</th>\n",
       "      <td>1000001</td>\n",
       "      <td>Margot Robbie</td>\n",
       "      <td>Barbie</td>\n",
       "    </tr>\n",
       "    <tr>\n",
       "      <th>1</th>\n",
       "      <td>1000001</td>\n",
       "      <td>Ryan Gosling</td>\n",
       "      <td>Ken</td>\n",
       "    </tr>\n",
       "    <tr>\n",
       "      <th>2</th>\n",
       "      <td>1000001</td>\n",
       "      <td>America Ferrera</td>\n",
       "      <td>Gloria</td>\n",
       "    </tr>\n",
       "    <tr>\n",
       "      <th>3</th>\n",
       "      <td>1000001</td>\n",
       "      <td>Ariana Greenblatt</td>\n",
       "      <td>Sasha</td>\n",
       "    </tr>\n",
       "    <tr>\n",
       "      <th>4</th>\n",
       "      <td>1000001</td>\n",
       "      <td>Issa Rae</td>\n",
       "      <td>Barbie</td>\n",
       "    </tr>\n",
       "  </tbody>\n",
       "</table>\n",
       "</div>"
      ]
     },
     "execution_count": 9,
     "metadata": {},
     "output_type": "execute_result"
    }
   ],
   "execution_count": 9
  },
  {
   "metadata": {
    "ExecuteTime": {
     "end_time": "2025-02-22T09:59:23.555360Z",
     "start_time": "2025-02-22T09:59:13.909438Z"
    }
   },
   "cell_type": "code",
   "source": [
    "# Rimuove duplicati\n",
    "df.drop_duplicates(inplace=True)"
   ],
   "id": "6c1351225419c7e6",
   "outputs": [],
   "execution_count": 11
  },
  {
   "metadata": {
    "ExecuteTime": {
     "end_time": "2025-02-22T09:59:28.632512Z",
     "start_time": "2025-02-22T09:59:23.579852Z"
    }
   },
   "cell_type": "code",
   "source": [
    "# Rimuove righe con troppi valori nulli (ad esempio, più del 50% dei dati mancanti)\n",
    "df.dropna(thresh=df.shape[1] * 0.5, inplace=True)\n",
    "\n",
    "# Sostituisce i valori nulli con \"Unknown\"\n",
    "df['role'] = df['role'].fillna(\"Unknown\")\n",
    "df['name'] = df['name'].fillna(\"Unknown\")"
   ],
   "id": "95f388879d952ad3",
   "outputs": [],
   "execution_count": 12
  },
  {
   "metadata": {
    "ExecuteTime": {
     "end_time": "2025-02-22T09:59:54.342932Z",
     "start_time": "2025-02-22T09:59:28.653180Z"
    }
   },
   "cell_type": "code",
   "source": [
    "# Funzione per tradurre il nome in caratteri latini \n",
    "def transliterate_name(name):\n",
    "    if isinstance(name, str):  # Controlla che sia una stringa\n",
    "        return unidecode(name).strip()  # Traduci e rimuovi spazi extra\n",
    "    return name  # Se non è stringa, lascialo così\n",
    "\n",
    "# Applica la funzione alla colonna dei nomi e dei ruoli\n",
    "df['name'] = df['name'].apply(transliterate_name)\n",
    "df['role'] = df['role'].apply(transliterate_name)\n"
   ],
   "id": "8464c9a5cb6be35",
   "outputs": [],
   "execution_count": 13
  },
  {
   "metadata": {
    "ExecuteTime": {
     "end_time": "2025-02-22T10:01:36.862203Z",
     "start_time": "2025-02-22T10:00:45.108176Z"
    }
   },
   "cell_type": "code",
   "source": [
    "# Prende solo la prima parte prima di \"/\"\n",
    "df['role'] = df['role'].str.split('/').str[0]\n",
    "\n",
    "# Rimuove sinonimi tra parentesi\n",
    "df['role'] = df['role'].apply(lambda x: re.sub(r\"\\(.*?\\)|（.*?）\", \"\", x))\n",
    "\n",
    "# Standardizza il testo (se ci sono nomi di attori, ruoli, ecc.)\n",
    "df['name'] = df['name'].str.strip().str.title()\n",
    "df['role'] = df['role'].str.strip().str.title()\n",
    "\n",
    "# Rimuove le virgolette\n",
    "df['name'] = df['name'].str.replace('\"', '')\n",
    "df['role'] = df['role'].str.replace('\"', '')"
   ],
   "id": "ce7fff51f285b2f1",
   "outputs": [],
   "execution_count": 15
  },
  {
   "metadata": {
    "ExecuteTime": {
     "end_time": "2025-02-22T10:02:06.324470Z",
     "start_time": "2025-02-22T10:01:47.881319Z"
    }
   },
   "cell_type": "code",
   "source": [
    "# Salva il file pulito\n",
    "cleaned_csv_path = os.path.join(clean_path, \"actors_cleaned.csv\")\n",
    "df.to_csv(cleaned_csv_path, index=False, encoding=\"utf-8\")"
   ],
   "id": "e1f77b2868790b31",
   "outputs": [],
   "execution_count": 17
  },
  {
   "metadata": {},
   "cell_type": "markdown",
   "source": "# Caricamento file csv pulito nel database con PostgreSQL\n",
   "id": "1997e665f407925f"
  },
  {
   "metadata": {
    "ExecuteTime": {
     "end_time": "2025-02-23T10:48:59.522269Z",
     "start_time": "2025-02-23T10:48:59.253392Z"
    }
   },
   "cell_type": "code",
   "source": [
    "import psycopg2\n",
    "from sqlalchemy import create_engine,text"
   ],
   "id": "a226f1f1a09b4581",
   "outputs": [],
   "execution_count": 2
  },
  {
   "metadata": {
    "ExecuteTime": {
     "end_time": "2025-02-23T10:49:00.199915Z",
     "start_time": "2025-02-23T10:49:00.133914Z"
    }
   },
   "cell_type": "code",
   "source": [
    "#  Parametri di connessione PostgreSQL\n",
    "DB_NAME = \"ium_database\"  \n",
    "DB_USER = \"postgres\"       \n",
    "DB_PASSWORD = \"password\"   \n",
    "DB_HOST = \"localhost\"      \n",
    "DB_PORT = \"5432\"    \n",
    "\n",
    "try:\n",
    "    conn = psycopg2.connect(dbname=\"postgres\", user=DB_USER, password=DB_PASSWORD, host=DB_HOST, port=DB_PORT) # Crea una connessione al database usando psycopg2.connect\n",
    "    conn.autocommit = True # Conferma automaticamente ogni operazione evitando la conferma manuale dopo ogni query\n",
    "    cur = conn.cursor() # Crea un oggetto cur che permette di eseguire query SQL sul database\n",
    "\n",
    "    cur.execute(f\"CREATE DATABASE {DB_NAME};\")# Esegue il comando per creare il database con il nome specificato\n",
    "    print(f\"Database '{DB_NAME}' creato con successo.\")\n",
    "    \n",
    "except psycopg2.errors.DuplicateDatabase:\n",
    "    print(f\"Il database '{DB_NAME}' esiste già.\")"
   ],
   "id": "5df9b37de1923157",
   "outputs": [
    {
     "name": "stdout",
     "output_type": "stream",
     "text": [
      "Il database 'ium_database' esiste già.\n"
     ]
    }
   ],
   "execution_count": 3
  },
  {
   "metadata": {
    "ExecuteTime": {
     "end_time": "2025-02-22T09:58:38.646817Z",
     "start_time": "2025-02-22T09:58:38.530263Z"
    }
   },
   "cell_type": "code",
   "source": [
    "# Crea un oggetto di connessione a un database PostgreSQL utilizzando SQLAlchemy\n",
    "engine = create_engine(f\"postgresql://{DB_USER}:{DB_PASSWORD}@{DB_HOST}:{DB_PORT}/{DB_NAME}\")"
   ],
   "id": "b930bfc1e74c30aa",
   "outputs": [],
   "execution_count": 4
  },
  {
   "metadata": {
    "ExecuteTime": {
     "end_time": "2025-02-22T09:58:41.869363Z",
     "start_time": "2025-02-22T09:58:41.718339Z"
    }
   },
   "cell_type": "code",
   "source": [
    "# Query SQL per creare la tabella\n",
    "create_table_query = text(\"\"\"\n",
    "    CREATE TABLE IF NOT EXISTS actors_data (\n",
    "        id INT,\n",
    "        name TEXT,\n",
    "        role TEXT\n",
    "    );\n",
    "\"\"\")\n",
    "\n",
    "# Eseguire la query\n",
    "with engine.connect() as connection: # Apre una connessione al database usando SQLAlchemy\n",
    "    connection.execute(create_table_query) # Esegue il comando per la creazione della \n",
    "    connection.commit() # Salva le modifiche"
   ],
   "id": "d8d9f54ab9281c42",
   "outputs": [],
   "execution_count": 5
  },
  {
   "metadata": {
    "ExecuteTime": {
     "end_time": "2025-02-22T10:45:04.693107Z",
     "start_time": "2025-02-22T10:42:22.846786Z"
    }
   },
   "cell_type": "code",
   "source": [
    "# Legge il CSV pulito\n",
    "df = pd.read_csv(cleaned_csv_path)\n",
    "\n",
    "# Carica i dati nella tabella PostgreSQL\n",
    "df.to_sql(\"actors_data\", engine, if_exists=\"replace\", index=False) # Esporta il dataframe nel database, sovrascrive e aggiunge i nuovi dati alla tabella esistente"
   ],
   "id": "49a742953e738a3e",
   "outputs": [
    {
     "data": {
      "text/plain": [
       "502"
      ]
     },
     "execution_count": 20,
     "metadata": {},
     "output_type": "execute_result"
    }
   ],
   "execution_count": 20
  }
 ],
 "metadata": {
  "kernelspec": {
   "display_name": "Python 3",
   "language": "python",
   "name": "python3"
  },
  "language_info": {
   "codemirror_mode": {
    "name": "ipython",
    "version": 2
   },
   "file_extension": ".py",
   "mimetype": "text/x-python",
   "name": "python",
   "nbconvert_exporter": "python",
   "pygments_lexer": "ipython2",
   "version": "2.7.6"
  }
 },
 "nbformat": 4,
 "nbformat_minor": 5
}
