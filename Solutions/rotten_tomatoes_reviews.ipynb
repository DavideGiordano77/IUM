{
 "cells": [
  {
   "cell_type": "code",
   "id": "initial_id",
   "metadata": {
    "collapsed": true,
    "ExecuteTime": {
     "end_time": "2025-02-22T18:13:29.622879Z",
     "start_time": "2025-02-22T18:13:28.832449Z"
    }
   },
   "source": [
    "import pandas as pd\n",
    "import os"
   ],
   "outputs": [],
   "execution_count": 1
  },
  {
   "metadata": {
    "ExecuteTime": {
     "end_time": "2025-02-22T18:14:01.890188Z",
     "start_time": "2025-02-22T18:13:56.415080Z"
    }
   },
   "cell_type": "code",
   "source": [
    "# Ottieni la directory di lavoro corrente\n",
    "script_dir = os.getcwd()\n",
    "\n",
    "# Costruisci il percorso relativo al file CSV\n",
    "file_path = os.path.join(script_dir, \"Data\", \"additional_data\", \"rotten_tomatoes_reviews.csv\")\n",
    "\n",
    "# Costruisci il percorso relativo al file CSV pulito\n",
    "clean_path = os.path.join(script_dir, \"Data\", \"clean_data\")\n",
    "\n",
    "if not os.path.exists(clean_path):\n",
    "    os.makedirs(clean_path)\n",
    "\n",
    "# Caricare il CSV in un DataFrame\n",
    "df = pd.read_csv(file_path)\n",
    "\n",
    "# Visualizzare le prime righe\n",
    "df.head()"
   ],
   "id": "ca0d32cce0e6d72",
   "outputs": [
    {
     "data": {
      "text/plain": [
       "  rotten_tomatoes_link                                        movie_title  \\\n",
       "0            m/0814255  Percy Jackson & the Olympians: The Lightning T...   \n",
       "1            m/0814255  Percy Jackson & the Olympians: The Lightning T...   \n",
       "2            m/0814255  Percy Jackson & the Olympians: The Lightning T...   \n",
       "3            m/0814255  Percy Jackson & the Olympians: The Lightning T...   \n",
       "4            m/0814255  Percy Jackson & the Olympians: The Lightning T...   \n",
       "\n",
       "       critic_name  top_critic           publisher_name review_type  \\\n",
       "0  Andrew L. Urban       False           Urban Cinefile       Fresh   \n",
       "1    Louise Keller       False           Urban Cinefile       Fresh   \n",
       "2              NaN       False      FILMINK (Australia)       Fresh   \n",
       "3     Ben McEachen       False  Sunday Mail (Australia)       Fresh   \n",
       "4      Ethan Alter        True       Hollywood Reporter      Rotten   \n",
       "\n",
       "  review_score review_date                                     review_content  \n",
       "0          NaN  2010-02-06  A fantasy adventure that fuses Greek mythology...  \n",
       "1          NaN  2010-02-06  Uma Thurman as Medusa, the gorgon with a coiff...  \n",
       "2          NaN  2010-02-09  With a top-notch cast and dazzling special eff...  \n",
       "3        3.5/5  2010-02-09  Whether audiences will get behind The Lightnin...  \n",
       "4          NaN  2010-02-10  What's really lacking in The Lightning Thief i...  "
      ],
      "text/html": [
       "<div>\n",
       "<style scoped>\n",
       "    .dataframe tbody tr th:only-of-type {\n",
       "        vertical-align: middle;\n",
       "    }\n",
       "\n",
       "    .dataframe tbody tr th {\n",
       "        vertical-align: top;\n",
       "    }\n",
       "\n",
       "    .dataframe thead th {\n",
       "        text-align: right;\n",
       "    }\n",
       "</style>\n",
       "<table border=\"1\" class=\"dataframe\">\n",
       "  <thead>\n",
       "    <tr style=\"text-align: right;\">\n",
       "      <th></th>\n",
       "      <th>rotten_tomatoes_link</th>\n",
       "      <th>movie_title</th>\n",
       "      <th>critic_name</th>\n",
       "      <th>top_critic</th>\n",
       "      <th>publisher_name</th>\n",
       "      <th>review_type</th>\n",
       "      <th>review_score</th>\n",
       "      <th>review_date</th>\n",
       "      <th>review_content</th>\n",
       "    </tr>\n",
       "  </thead>\n",
       "  <tbody>\n",
       "    <tr>\n",
       "      <th>0</th>\n",
       "      <td>m/0814255</td>\n",
       "      <td>Percy Jackson &amp; the Olympians: The Lightning T...</td>\n",
       "      <td>Andrew L. Urban</td>\n",
       "      <td>False</td>\n",
       "      <td>Urban Cinefile</td>\n",
       "      <td>Fresh</td>\n",
       "      <td>NaN</td>\n",
       "      <td>2010-02-06</td>\n",
       "      <td>A fantasy adventure that fuses Greek mythology...</td>\n",
       "    </tr>\n",
       "    <tr>\n",
       "      <th>1</th>\n",
       "      <td>m/0814255</td>\n",
       "      <td>Percy Jackson &amp; the Olympians: The Lightning T...</td>\n",
       "      <td>Louise Keller</td>\n",
       "      <td>False</td>\n",
       "      <td>Urban Cinefile</td>\n",
       "      <td>Fresh</td>\n",
       "      <td>NaN</td>\n",
       "      <td>2010-02-06</td>\n",
       "      <td>Uma Thurman as Medusa, the gorgon with a coiff...</td>\n",
       "    </tr>\n",
       "    <tr>\n",
       "      <th>2</th>\n",
       "      <td>m/0814255</td>\n",
       "      <td>Percy Jackson &amp; the Olympians: The Lightning T...</td>\n",
       "      <td>NaN</td>\n",
       "      <td>False</td>\n",
       "      <td>FILMINK (Australia)</td>\n",
       "      <td>Fresh</td>\n",
       "      <td>NaN</td>\n",
       "      <td>2010-02-09</td>\n",
       "      <td>With a top-notch cast and dazzling special eff...</td>\n",
       "    </tr>\n",
       "    <tr>\n",
       "      <th>3</th>\n",
       "      <td>m/0814255</td>\n",
       "      <td>Percy Jackson &amp; the Olympians: The Lightning T...</td>\n",
       "      <td>Ben McEachen</td>\n",
       "      <td>False</td>\n",
       "      <td>Sunday Mail (Australia)</td>\n",
       "      <td>Fresh</td>\n",
       "      <td>3.5/5</td>\n",
       "      <td>2010-02-09</td>\n",
       "      <td>Whether audiences will get behind The Lightnin...</td>\n",
       "    </tr>\n",
       "    <tr>\n",
       "      <th>4</th>\n",
       "      <td>m/0814255</td>\n",
       "      <td>Percy Jackson &amp; the Olympians: The Lightning T...</td>\n",
       "      <td>Ethan Alter</td>\n",
       "      <td>True</td>\n",
       "      <td>Hollywood Reporter</td>\n",
       "      <td>Rotten</td>\n",
       "      <td>NaN</td>\n",
       "      <td>2010-02-10</td>\n",
       "      <td>What's really lacking in The Lightning Thief i...</td>\n",
       "    </tr>\n",
       "  </tbody>\n",
       "</table>\n",
       "</div>"
      ]
     },
     "execution_count": 3,
     "metadata": {},
     "output_type": "execute_result"
    }
   ],
   "execution_count": 3
  },
  {
   "metadata": {
    "ExecuteTime": {
     "end_time": "2025-02-22T18:14:03.821748Z",
     "start_time": "2025-02-22T18:14:03.403172Z"
    }
   },
   "cell_type": "code",
   "source": [
    "# Rimuove le righe in cui 'review_score', 'c5' e 'critic_name' sono null\n",
    "df = df.dropna(subset=[\"review_score\", \"critic_name\", \"publisher_name\"])"
   ],
   "id": "5f91bf24960dcfb",
   "outputs": [],
   "execution_count": 4
  },
  {
   "metadata": {
    "ExecuteTime": {
     "end_time": "2025-02-22T18:14:34.888042Z",
     "start_time": "2025-02-22T18:14:28.558966Z"
    }
   },
   "cell_type": "code",
   "source": [
    "# Salva il file pulito\n",
    "cleaned_csv_path = os.path.join(clean_path, \"rotten_tomatoes_reviews_cleaned.csv\")\n",
    "df.to_csv(cleaned_csv_path, index=False, encoding=\"utf-8\")"
   ],
   "id": "911567350b1b62d7",
   "outputs": [],
   "execution_count": 6
  },
  {
   "metadata": {},
   "cell_type": "markdown",
   "source": "# Collegamento al DB",
   "id": "e70c7f5cb56eb733"
  },
  {
   "metadata": {
    "ExecuteTime": {
     "end_time": "2025-02-22T18:15:04.071512Z",
     "start_time": "2025-02-22T18:15:03.792699Z"
    }
   },
   "cell_type": "code",
   "source": "from pymongo import MongoClient",
   "id": "d48fe0848ef0dc88",
   "outputs": [],
   "execution_count": 7
  },
  {
   "metadata": {
    "ExecuteTime": {
     "end_time": "2025-02-22T18:15:30.619989Z",
     "start_time": "2025-02-22T18:15:04.853892Z"
    }
   },
   "cell_type": "code",
   "source": [
    "# Configura MongoDB (modifica se necessario)\n",
    "MONGO_URL = \"mongodb://localhost:27017/\"\n",
    "DB_NAME = \"ium_database\"\n",
    "COLLECTION_NAME = \"rotten_tomatoes_reviews_data\"\n",
    "\n",
    "# Connessione a MongoDB\n",
    "client = MongoClient(MONGO_URL)\n",
    "db = client[DB_NAME]\n",
    "collection = db[COLLECTION_NAME]\n",
    "\n",
    "# Carica il CSV con Pandas\n",
    "df = pd.read_csv(cleaned_csv_path)\n",
    "\n",
    "# Converte il DataFrame in JSON-like per MongoDB\n",
    "data = df.to_dict(orient=\"records\")\n",
    "\n",
    "# Usa insert_many() per inserire tutto in un'unica operazione (molto più veloce)\n",
    "collection.insert_many(data, ordered=False); #il ; non fa stampare l'output su jupyter"
   ],
   "id": "71ae3a8654c344fb",
   "outputs": [],
   "execution_count": 8
  }
 ],
 "metadata": {
  "kernelspec": {
   "display_name": "Python 3",
   "language": "python",
   "name": "python3"
  },
  "language_info": {
   "codemirror_mode": {
    "name": "ipython",
    "version": 2
   },
   "file_extension": ".py",
   "mimetype": "text/x-python",
   "name": "python",
   "nbconvert_exporter": "python",
   "pygments_lexer": "ipython2",
   "version": "2.7.6"
  }
 },
 "nbformat": 4,
 "nbformat_minor": 5
}
